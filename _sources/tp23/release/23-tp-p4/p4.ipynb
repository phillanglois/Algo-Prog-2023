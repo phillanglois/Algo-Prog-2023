{
 "cells": [
  {
   "cell_type": "markdown",
   "metadata": {
    "deletable": false,
    "editable": false,
    "nbgrader": {
     "cell_type": "markdown",
     "checksum": "5d565068902db8bfca4aff468073993e",
     "grade": false,
     "grade_id": "cell-8161993f1fc3149d",
     "locked": true,
     "schema_version": 3,
     "solution": false,
     "task": false
    }
   },
   "source": [
    "## Présentation\n",
    "\n",
    "Ce sujet propose de développer un jeu _puissance 4_.\n",
    "Les questions vous guident dans ce développement.\n",
    "Des tests d'auto-validation suivent chaque question et vous aident à valider vos traitements.\n",
    "**Ne pas continuer dès qu'un test déclenche une exception ou produit des messages d'erreur.**\n",
    "Dans ce cas, vos traitements sont erronés et vous devez les corriger avant d'aller plus loin\n",
    "dans la résolution du sujet."
   ]
  },
  {
   "cell_type": "markdown",
   "metadata": {
    "deletable": false,
    "editable": false,
    "nbgrader": {
     "cell_type": "markdown",
     "checksum": "e0c32ed4c84bcb50f2ff7106c9c61462",
     "grade": false,
     "grade_id": "cell-c5096e58b9b6c8fd",
     "locked": true,
     "schema_version": 3,
     "solution": false
    }
   },
   "source": [
    "### Le jeu **puissance 4**\n",
    "\n",
    "Le jeu **puissance 4** est un jeu de stratégie dont le but est d'aligner une suite de 4 pions de même couleur sur une grille comptant 6 lignes horizontales et 7 colonnes verticales. \n",
    "\n",
    "![Un debut de partie](p4.png)\n",
    "\n",
    "Il y a deux joueurs. Chacun dispose de 21 pions d'une couleur, en général jaune ou rouge.  \n",
    "\n",
    "Tour à tour, les joueurs placent un pion dans la colonne de leur choix. **Le pion tombe dans la colonne jusqu'à la position la plus basse possible**.  Puis c'est à l'adversaire de jouer de façon similaire avec ses jetons.\n",
    "\n",
    "Le vainqueur est le joueur qui réalise le premier un **alignement horizontal ou vertical ou diagonal d'au moins quatre pions consécutifs de sa couleur**. \n",
    "\n",
    "Si, alors que toutes les cases de la grille de jeu sont remplies, aucun des deux joueurs n'a réalisé un tel alignement, la partie est déclarée nulle."
   ]
  },
  {
   "cell_type": "markdown",
   "metadata": {
    "deletable": false,
    "editable": false,
    "nbgrader": {
     "cell_type": "markdown",
     "checksum": "9354c764b038c158ba148bb42fc95890",
     "grade": false,
     "grade_id": "cell-7ca610ba347b28c1",
     "locked": true,
     "schema_version": 3,
     "solution": false
    }
   },
   "source": [
    "### La grille et les jetons de couleurs"
   ]
  },
  {
   "cell_type": "markdown",
   "metadata": {
    "deletable": false,
    "editable": false,
    "nbgrader": {
     "cell_type": "markdown",
     "checksum": "cd248e5d378db3beb53ea9723ea7b07b",
     "grade": false,
     "grade_id": "cell-b667d0771955812b",
     "locked": true,
     "schema_version": 3,
     "solution": false,
     "task": false
    }
   },
   "source": [
    "**Constantes.**\n",
    "- Les couleurs `JAUNE` et `ROUGE` sont des constantes entières  égales à 1 et 2 respectivement.\n",
    "- `NBL` et `NBC` sont des constantes entières égales à 6 et 7 respectivement. Elles représentent le nombre de lignes et le nombre de colonnes du jeu réel.\n",
    "\n",
    "L'énumératif `couleurs` regroupe les constantes `JAUNE` et `ROUGE`. Il sert pour noter le type de paramètre(s) de couleur dans la définition de fonctions. "
   ]
  },
  {
   "cell_type": "code",
   "execution_count": null,
   "metadata": {
    "deletable": false,
    "editable": false,
    "nbgrader": {
     "cell_type": "code",
     "checksum": "48fa66139bda7121be80937b1683e914",
     "grade": false,
     "grade_id": "cell-23fdf00950925754",
     "locked": true,
     "schema_version": 3,
     "solution": false
    }
   },
   "outputs": [],
   "source": [
    "JAUNE = 1\n",
    "ROUGE = 2\n",
    "\n",
    "couleurs = (JAUNE, ROUGE)\n",
    "\n",
    "NBL = 6 # nbre de lignes\n",
    "NBC = 7 # nbre de colonnes"
   ]
  },
  {
   "cell_type": "markdown",
   "metadata": {
    "deletable": false,
    "editable": false,
    "nbgrader": {
     "cell_type": "markdown",
     "checksum": "b7a6b014ca6caac5a3484c921d55ee53",
     "grade": false,
     "grade_id": "cell-5bc5f360724be6d4",
     "locked": true,
     "schema_version": 3,
     "solution": false,
     "task": false
    }
   },
   "source": [
    "**Grille de jeu.**\n",
    "- La grille du jeu est un tableau 2D de valeurs entières.\n",
    "- Dans la suite, la grille de jeu sera de taille `NBL x NBC`.\n",
    "- Cependant les fonctions qui définissent les traitements de la grille de jeu seront paramétrés par  `dimv` et `dimh` pour représenter des grilles de taille quelconque `dimv x dimh`.\n",
    "- **IMPORTANT :** la grille de jeu est stockée ligne par ligne **à partir de la ligne du bas** -- la ligne 0 du tableau représente la ligne du bas de la grille de jeu, cad. la ligne qui accueille le premier pion joué dans une partie."
   ]
  },
  {
   "cell_type": "markdown",
   "metadata": {
    "deletable": false,
    "editable": false,
    "nbgrader": {
     "cell_type": "markdown",
     "checksum": "fe1f4dfa47e53e9c9826b77d28064321",
     "grade": false,
     "grade_id": "cell-bb9b100053f8bf4d",
     "locked": true,
     "schema_version": 3,
     "solution": false
    }
   },
   "source": [
    "La cellule suivante définit deux états de la grille de jeu.\n",
    "- la grille `g0` est vide -- comme en début de jeu. Elle est représentée comme un tableau 2D de zéros : la valeur 0 représente une case vide\n",
    "- la grille `g1` correspond à l'image du début du sujet."
   ]
  },
  {
   "cell_type": "code",
   "execution_count": null,
   "metadata": {
    "deletable": false,
    "editable": false,
    "nbgrader": {
     "cell_type": "code",
     "checksum": "301bdf0ea8450b74bd9e2c8ad6ac6a0b",
     "grade": false,
     "grade_id": "cell-94208d8769fe93ad",
     "locked": true,
     "schema_version": 3,
     "solution": false,
     "task": false
    }
   },
   "outputs": [],
   "source": [
    "g0 = [[0 for j in range(NBC)] for i in range(NBL)]\n",
    "\n",
    "g1 = [[2,1,1,1,2,2,0],\n",
    "      [0,1,2,2,1,0,0],\n",
    "      [0,0,2,1,2,0,0],\n",
    "      [0,0,1,0,0,0,0],\n",
    "      [0,0,0,0,0,0,0],\n",
    "      [0,0,0,0,0,0,0]]\n",
    "\n",
    "print(g0)\n",
    "print(g1)"
   ]
  },
  {
   "cell_type": "markdown",
   "metadata": {
    "deletable": false,
    "editable": false,
    "nbgrader": {
     "cell_type": "markdown",
     "checksum": "c5dff880c538620cfaa266b83e3021f0",
     "grade": false,
     "grade_id": "cell-2c5d82443d00013f",
     "locked": true,
     "schema_version": 3,
     "solution": false
    }
   },
   "source": [
    "## Quelques primitives utiles"
   ]
  },
  {
   "cell_type": "markdown",
   "metadata": {
    "deletable": false,
    "editable": false,
    "nbgrader": {
     "cell_type": "markdown",
     "checksum": "e982580f363ae5484ecb57477b438c3a",
     "grade": false,
     "grade_id": "cell-e4cc7217a6dab2bd",
     "locked": true,
     "schema_version": 3,
     "solution": false
    }
   },
   "source": [
    "### code(couleur)\n",
    "\n",
    "Ecrire selon l'en-tête suivant, une fonction `code(c : couleurs) -> int` qui retourne la valeur entière correspondant à JAUNE ou ROUGE.  \n",
    "\n",
    "**Rmq.** On illustre ainsi la spécification d'une fonction avec un paramètre formel de \"type `couleurs`\" issu de la définition :\n",
    "```python\n",
    "couleurs = (JAUNE, ROUGE)\n",
    "```"
   ]
  },
  {
   "cell_type": "code",
   "execution_count": null,
   "metadata": {
    "deletable": false,
    "nbgrader": {
     "cell_type": "code",
     "checksum": "613ab0dbd55f4c3ae42d64d661351aea",
     "grade": false,
     "grade_id": "cell-8af26371f0982660",
     "locked": false,
     "schema_version": 3,
     "solution": true,
     "task": false
    }
   },
   "outputs": [],
   "source": [
    "def code(c : couleurs) -> int:\n",
    "# ENTRER VOTRE CODE A LA PLACE DE CES 2 LIGNES\n",
    "raise NotImplementedError()"
   ]
  },
  {
   "cell_type": "markdown",
   "metadata": {
    "deletable": false,
    "editable": false,
    "nbgrader": {
     "cell_type": "markdown",
     "checksum": "7050db411453fdda087855de16173cc8",
     "grade": false,
     "grade_id": "cell-a46dc92604de3b0e",
     "locked": true,
     "schema_version": 3,
     "solution": false,
     "task": false
    }
   },
   "source": [
    "#### Auto-validation\n",
    "\n",
    "**Rappel.** La cellule suivante (tests unitaires) doit s'exécuter sans déclencher d'exception ni de message d'erreur."
   ]
  },
  {
   "cell_type": "code",
   "execution_count": null,
   "metadata": {
    "deletable": false,
    "editable": false,
    "nbgrader": {
     "cell_type": "code",
     "checksum": "6199923cd92613692da364d97ccc40f5",
     "grade": false,
     "grade_id": "cell-00aa878a3f4383c2",
     "locked": true,
     "schema_version": 3,
     "solution": false,
     "task": false
    }
   },
   "outputs": [],
   "source": [
    "assert code(JAUNE) == 1\n",
    "assert code(ROUGE) == 2"
   ]
  },
  {
   "cell_type": "markdown",
   "metadata": {
    "deletable": false,
    "editable": false,
    "nbgrader": {
     "cell_type": "markdown",
     "checksum": "d07f27ebc2952fe717c81676dd6ee546",
     "grade": false,
     "grade_id": "cell-c5f46bc7029e8618",
     "locked": true,
     "schema_version": 3,
     "solution": false,
     "task": false
    }
   },
   "source": [
    "### couleur(code)\n",
    "\n",
    "Ecrire selon l'en-tête suivant, une fonction `couleur(c : int) -> str` qui retourne la chaine de caractères \"jaune\" ou \"rouge\" pour les valeurs entières correspondant à JAUNE et ROUGE, respectivement.  "
   ]
  },
  {
   "cell_type": "code",
   "execution_count": null,
   "metadata": {
    "deletable": false,
    "nbgrader": {
     "cell_type": "code",
     "checksum": "7570fd3a89b50969a0ba1118912fd3b5",
     "grade": true,
     "grade_id": "cell-b1462134489dd4d1",
     "locked": false,
     "points": 1,
     "schema_version": 3,
     "solution": true,
     "task": false
    }
   },
   "outputs": [],
   "source": [
    "def couleur(c : int) -> str:\n",
    "# ENTRER VOTRE CODE A LA PLACE DE CES 2 LIGNES\n",
    "raise NotImplementedError()"
   ]
  },
  {
   "cell_type": "markdown",
   "metadata": {
    "deletable": false,
    "editable": false,
    "nbgrader": {
     "cell_type": "markdown",
     "checksum": "16d4650e60670584153032a010c019a3",
     "grade": false,
     "grade_id": "cell-20d4c2fc4b30664e",
     "locked": true,
     "schema_version": 3,
     "solution": false,
     "task": false
    }
   },
   "source": [
    "#### Auto-validation"
   ]
  },
  {
   "cell_type": "code",
   "execution_count": null,
   "metadata": {
    "deletable": false,
    "editable": false,
    "nbgrader": {
     "cell_type": "code",
     "checksum": "f70f16bb8a2a20975d1850672521ed15",
     "grade": false,
     "grade_id": "cell-c67a3e28522ab782",
     "locked": true,
     "schema_version": 3,
     "solution": false,
     "task": false
    }
   },
   "outputs": [],
   "source": [
    "assert couleur(1) == \"jaune\"\n",
    "assert couleur(2) == \"rouge\""
   ]
  },
  {
   "cell_type": "markdown",
   "metadata": {
    "deletable": false,
    "editable": false,
    "nbgrader": {
     "cell_type": "markdown",
     "checksum": "7bc5407ea97644cd5ba7daa017aa22a9",
     "grade": false,
     "grade_id": "cell-1e27687743e51687",
     "locked": true,
     "schema_version": 3,
     "solution": false
    }
   },
   "source": [
    "### nbJetons()\n",
    "\n",
    "On va écrire plusieurs versions successives d'une fonction nbJetons() qui retourne le nombre de jetons d'une grille donnée.  "
   ]
  },
  {
   "cell_type": "markdown",
   "metadata": {
    "deletable": false,
    "editable": false,
    "nbgrader": {
     "cell_type": "markdown",
     "checksum": "09805cc32d33381c895beba336f798f1",
     "grade": false,
     "grade_id": "cell-ea96df810aae8b7f",
     "locked": true,
     "schema_version": 3,
     "solution": false
    }
   },
   "source": [
    "#### Jaunes ou rouges\n",
    "Ecrire selon l'en-tête suivant, la fonction nbJetons() qui retourne le nombre de jetons de couleur `c` d'une grille `g` de taille `dimv x dimh`. "
   ]
  },
  {
   "cell_type": "code",
   "execution_count": null,
   "metadata": {
    "deletable": false,
    "nbgrader": {
     "cell_type": "code",
     "checksum": "c7da8aea6d9e5a83665252739675b7ab",
     "grade": true,
     "grade_id": "cell-7d4d2e49cba26a7e",
     "locked": false,
     "points": 1,
     "schema_version": 3,
     "solution": true,
     "task": false
    }
   },
   "outputs": [],
   "source": [
    "def nbJetons(c : couleurs, g : list[list[int]], dimv : int, dimh : int) -> int:\n",
    "# ENTRER VOTRE CODE A LA PLACE DE CES 2 LIGNES\n",
    "raise NotImplementedError()"
   ]
  },
  {
   "cell_type": "markdown",
   "metadata": {
    "deletable": false,
    "editable": false,
    "nbgrader": {
     "cell_type": "markdown",
     "checksum": "d1059b23ffb530eef823be21697d5179",
     "grade": false,
     "grade_id": "cell-11324cd98a98a09e",
     "locked": true,
     "schema_version": 3,
     "solution": false,
     "task": false
    }
   },
   "source": [
    "##### Auto-validation"
   ]
  },
  {
   "cell_type": "code",
   "execution_count": null,
   "metadata": {
    "deletable": false,
    "editable": false,
    "nbgrader": {
     "cell_type": "code",
     "checksum": "996610d9967afd40fb01e45ca1ae41c8",
     "grade": false,
     "grade_id": "cell-e0da5676cfe1dd68",
     "locked": true,
     "schema_version": 3,
     "solution": false,
     "task": false
    }
   },
   "outputs": [],
   "source": [
    "assert nbJetons(JAUNE, g0, NBL, NBC) == 0\n",
    "assert nbJetons(ROUGE, g0, NBL, NBC) == 0\n",
    "assert nbJetons(JAUNE, g1, NBL, NBC) == 7\n",
    "assert nbJetons(ROUGE, g1, NBL, NBC) == 7"
   ]
  },
  {
   "cell_type": "markdown",
   "metadata": {
    "deletable": false,
    "editable": false,
    "nbgrader": {
     "cell_type": "markdown",
     "checksum": "19dd9bce1e245735eb9152952eb79945",
     "grade": false,
     "grade_id": "cell-bdd06f2a04cdebb7",
     "locked": true,
     "schema_version": 3,
     "solution": false,
     "task": false
    }
   },
   "source": [
    "#### Jaunes, rouges ou les 2 \n",
    "\n",
    "On définit la constante TOUS :"
   ]
  },
  {
   "cell_type": "code",
   "execution_count": null,
   "metadata": {
    "deletable": false,
    "editable": false,
    "nbgrader": {
     "cell_type": "code",
     "checksum": "0540059459438bf2ab520cf0bed3d481",
     "grade": false,
     "grade_id": "cell-0a67ffdb33a91adb",
     "locked": true,
     "schema_version": 3,
     "solution": false,
     "task": false
    }
   },
   "outputs": [],
   "source": [
    "TOUS = 3"
   ]
  },
  {
   "cell_type": "markdown",
   "metadata": {
    "deletable": false,
    "editable": false,
    "nbgrader": {
     "cell_type": "markdown",
     "checksum": "26c4cc342c763826db1005a8c8d6669a",
     "grade": false,
     "grade_id": "cell-042a3a32d9ff73b5",
     "locked": true,
     "schema_version": 3,
     "solution": false
    }
   },
   "source": [
    "Reprendre nbJetons() et la compléter de façon à ce que le paramètre couleur `c` prenne aussi la valeur \n",
    "`TOUS` et retourne dans ce cas tous les jetons présents dans la grille de jeu."
   ]
  },
  {
   "cell_type": "code",
   "execution_count": null,
   "metadata": {
    "deletable": false,
    "nbgrader": {
     "cell_type": "code",
     "checksum": "575b1ce8388873248d4acccd67473307",
     "grade": true,
     "grade_id": "cell-8f31b8bac7944c43",
     "locked": false,
     "points": 1,
     "schema_version": 3,
     "solution": true,
     "task": false
    }
   },
   "outputs": [],
   "source": [
    "def nbJetons(c : couleurs, g : list[list[int]], dimv : int, dimh : int) -> int:\n",
    "# ENTRER VOTRE CODE A LA PLACE DE CES 2 LIGNES\n",
    "raise NotImplementedError()"
   ]
  },
  {
   "cell_type": "markdown",
   "metadata": {
    "deletable": false,
    "editable": false,
    "nbgrader": {
     "cell_type": "markdown",
     "checksum": "95a64a0061bee96b867cf9b75597a711",
     "grade": false,
     "grade_id": "cell-ca5c253e1392d686",
     "locked": true,
     "schema_version": 3,
     "solution": false,
     "task": false
    }
   },
   "source": [
    "##### Auto-validation"
   ]
  },
  {
   "cell_type": "code",
   "execution_count": null,
   "metadata": {
    "deletable": false,
    "editable": false,
    "nbgrader": {
     "cell_type": "code",
     "checksum": "b90e3e762f2593aa75f103f4c60eee6c",
     "grade": false,
     "grade_id": "cell-4aa7189d354a58f6",
     "locked": true,
     "schema_version": 3,
     "solution": false,
     "task": false
    }
   },
   "outputs": [],
   "source": [
    "assert nbJetons(TOUS, g1, NBL, NBC) == 14\n",
    "assert nbJetons(ROUGE, g1, NBL, NBC) == 7\n",
    "assert nbJetons(JAUNE, g1, NBL, NBC) == 7"
   ]
  },
  {
   "cell_type": "code",
   "execution_count": null,
   "metadata": {
    "deletable": false,
    "editable": false,
    "nbgrader": {
     "cell_type": "code",
     "checksum": "66c3723345479054c9c3a5cb004bbe89",
     "grade": false,
     "grade_id": "cell-28893e6eb53989ce",
     "locked": true,
     "schema_version": 3,
     "solution": false,
     "task": false
    }
   },
   "outputs": [],
   "source": [
    "g0 = [[0 for j in range(NBC)] for i in range(NBL)]\n",
    "assert nbJetons(TOUS, g0, NBL, NBC) == 0\n",
    "assert nbJetons(JAUNE, g0, NBL, NBC) == 0\n",
    "assert nbJetons(ROUGE, g0, NBL, NBC) == 0"
   ]
  },
  {
   "cell_type": "markdown",
   "metadata": {
    "deletable": false,
    "editable": false,
    "nbgrader": {
     "cell_type": "markdown",
     "checksum": "847d137300f9163862d7fe3f9ebce56e",
     "grade": false,
     "grade_id": "cell-c8ac70c0e7a242a5",
     "locked": true,
     "schema_version": 3,
     "solution": false
    }
   },
   "source": [
    "### NbCasesLibres() \n",
    "\n",
    "Ecrire selon l'en-tête suivant, une fonction NbCasesLibres() qui retourne le nombre de cases vides (sans jeton) d'une grille de taille `dimv x dimh`."
   ]
  },
  {
   "cell_type": "code",
   "execution_count": null,
   "metadata": {
    "deletable": false,
    "nbgrader": {
     "cell_type": "code",
     "checksum": "e6a829369675525f1537a98cd99e0bf2",
     "grade": true,
     "grade_id": "cell-80cbb0c3b5131367",
     "locked": false,
     "points": 1,
     "schema_version": 3,
     "solution": true,
     "task": false
    }
   },
   "outputs": [],
   "source": [
    "def NbCasesLibres(g : list[list[int]], dimv : int, dimh : int) -> int:\n",
    "# ENTRER VOTRE CODE A LA PLACE DE CES 2 LIGNES\n",
    "raise NotImplementedError()"
   ]
  },
  {
   "cell_type": "markdown",
   "metadata": {
    "deletable": false,
    "editable": false,
    "nbgrader": {
     "cell_type": "markdown",
     "checksum": "355d18ad77fbe6049767ce9860a7ebbd",
     "grade": false,
     "grade_id": "cell-8b0363086541fab7",
     "locked": true,
     "schema_version": 3,
     "solution": false,
     "task": false
    }
   },
   "source": [
    "#### Auto-validation"
   ]
  },
  {
   "cell_type": "code",
   "execution_count": null,
   "metadata": {
    "deletable": false,
    "editable": false,
    "nbgrader": {
     "cell_type": "code",
     "checksum": "8eb68f428fbbcc3394c87532774835ba",
     "grade": false,
     "grade_id": "cell-1538ff0326dce0ce",
     "locked": true,
     "schema_version": 3,
     "solution": false,
     "task": false
    }
   },
   "outputs": [],
   "source": [
    "assert NbCasesLibres(g1, NBL, NBC) == 28"
   ]
  },
  {
   "cell_type": "markdown",
   "metadata": {
    "deletable": false,
    "editable": false,
    "nbgrader": {
     "cell_type": "markdown",
     "checksum": "04de8fc69d9b2981869180aedcb3b239",
     "grade": false,
     "grade_id": "cell-911069f363fb8b73",
     "locked": true,
     "schema_version": 3,
     "solution": false,
     "task": false
    }
   },
   "source": [
    "## Affichages de la grille\n",
    "\n",
    "**Objectif 10.** \n",
    "La grille de jeu étant représentée par un tableau 2D, on peut utiliser la fonction d'affichage `print()` appliquée à un tableau. Bien sûr, on gardera bien en tête que l'affichage alors obtenu correspond **aux lignes à partir du bas de la grille**.\n",
    "\n",
    "**Exemple.** L'exécution de \n",
    "```python\n",
    "print(g1)\n",
    "```\n",
    "pour la grille `g1`de la figure du début donne :\n",
    "```\n",
    "[[2, 1, 1, 1, 2, 2, 0], [0, 1, 2, 2, 1, 0, 0], [0, 0, 2, 1, 2, 0, 0], [0, 0, 1, 0, 0, 0, 0], [0, 0, 0, 0, 0, 0, 0], [0, 0, 0, 0, 0, 0, 0]]\n",
    "```"
   ]
  },
  {
   "cell_type": "markdown",
   "metadata": {
    "deletable": false,
    "editable": false,
    "nbgrader": {
     "cell_type": "markdown",
     "checksum": "6157443b8497167127c76035df812461",
     "grade": false,
     "grade_id": "cell-b18a41a8db192840",
     "locked": true,
     "schema_version": 3,
     "solution": false
    }
   },
   "source": [
    "**Objectif 20.**\n",
    "Un affichage plus agréable va être développé en 2 étapes :  \n",
    "- d'abord un affichage de la grille uniquement,\n",
    "- puis un affichage complété avec les numéros des lignes et des colonnes tels que les voient les joueurs. \n",
    "\n",
    "### ($\\star$) grille_en_str()\n",
    "\n",
    "Le premier affichage sera tel que :\n",
    "- les cases vides sont affichées avec le caractère `'.'` \n",
    "- les pions jaunes sont affichées avec le caractère `'O'`  \n",
    "- les pions rouge sont affichées avec le caractère `'X'`  \n",
    "\n",
    "Pour cela, on va écrire une fonction `grille_en_str( )` qui transforme la grille de jeu en une chaîne de caractères adaptée qui, ensuite, pourra être affichée d'un seul `print` et donner l'affichage souhaité.\n",
    "\n",
    "- L'en-tête de cette fonction est définie dans la cellule suivante.\n",
    "- Cette fonction retourne la chaîne de caractère construite par l'algorithme suivant :\n",
    "    - chaque ligne de la grille est interprétée comme une chaîne de 6 caractères séparés par des espaces ;\n",
    "    - chaque chaîne de caractères est concaténée dans un ordre adéquat dans une chaîne globale qui représentera la grille complète ;\n",
    "    - cette chaîne globale sera retournée pour obtenir l'affichage demandé.\n",
    "\n",
    "On rappelle que le _caractère_ spécial `\\n` permet un saut de ligne.\n",
    "\n",
    "Ainsi \n",
    "```python\n",
    "print( grille_en_str(g1) )\n",
    "```\n",
    "donnera l'affichage de la grille `g1` suivant.\n",
    "\n",
    "```\n",
    ". . . . . . . \n",
    ". . . . . . . \n",
    ". . O . . . .`\n",
    ". . X O X . . \n",
    ". O X X O . . \n",
    "X O O O X X .\n",
    "```\n",
    " "
   ]
  },
  {
   "cell_type": "code",
   "execution_count": null,
   "metadata": {
    "deletable": false,
    "nbgrader": {
     "cell_type": "code",
     "checksum": "fd3e38dc6b17be349f09b67c0ac8aafa",
     "grade": false,
     "grade_id": "cell-f7938db9b7f17050",
     "locked": false,
     "schema_version": 3,
     "solution": true,
     "task": false
    }
   },
   "outputs": [],
   "source": [
    "def grille_en_str(g : list[list[int]], dimv : int, dimh : int) -> str:\n",
    "# ENTRER VOTRE CODE A LA PLACE DE CES 2 LIGNES\n",
    "raise NotImplementedError()"
   ]
  },
  {
   "cell_type": "code",
   "execution_count": null,
   "metadata": {
    "deletable": false,
    "editable": false,
    "nbgrader": {
     "cell_type": "code",
     "checksum": "63cc4785ce636be3a98dfdc2db8d32b3",
     "grade": true,
     "grade_id": "cell-b310bca4b1c0c264",
     "locked": true,
     "points": 1,
     "schema_version": 3,
     "solution": false
    }
   },
   "outputs": [],
   "source": [
    "# Ne pas écrire dans cette cellule"
   ]
  },
  {
   "cell_type": "markdown",
   "metadata": {
    "deletable": false,
    "editable": false,
    "nbgrader": {
     "cell_type": "markdown",
     "checksum": "03ab325d4a500bd2267b46233e9fdcd2",
     "grade": false,
     "grade_id": "cell-b12478766b5dc9c4",
     "locked": true,
     "schema_version": 3,
     "solution": false,
     "task": false
    }
   },
   "source": [
    "($\\star$) **application**\n",
    "\n",
    "Vérifier que l'affichage suivnt de `g1` est identique à celui indiqué au dessus."
   ]
  },
  {
   "cell_type": "code",
   "execution_count": null,
   "metadata": {
    "deletable": false,
    "editable": false,
    "nbgrader": {
     "cell_type": "code",
     "checksum": "1ce766fae5e8f0e3bf863cf5e5cf3182",
     "grade": false,
     "grade_id": "cell-8e9125192de8003e",
     "locked": true,
     "schema_version": 3,
     "solution": false,
     "task": false
    }
   },
   "outputs": [],
   "source": [
    "print(grille_en_str(g1, NBL, NBC))"
   ]
  },
  {
   "cell_type": "markdown",
   "metadata": {
    "deletable": false,
    "editable": false,
    "nbgrader": {
     "cell_type": "markdown",
     "checksum": "087e6aa4bc7b3d11bbbc0515787ed780",
     "grade": false,
     "grade_id": "cell-0f9310440f487ec6",
     "locked": true,
     "schema_version": 3,
     "solution": false
    }
   },
   "source": [
    "### ($\\star$) afficher avec numéros lignes et colonnes _vues par le joueur_\n",
    "\n",
    "**Attention : bien lire ce passage qui définit 2 numérotations différentes.**\n",
    "\n",
    "- _numérotation-joueur_ : le _joueur_ compte les lignes et les colonnes à partir de 1 et en partant de la ligne du bas  et de la colonne de gauche de la grille (voir exemple ci-dessous). \n",
    "- _numérotation-développeur_ : le _développeur_ que vous êtes utilise la numérotation du tableau qui représente la grille (attention à l'ordre des lignes). `print()` permet un affichage \n",
    "\n",
    "Par la suite, nous indiquerons **explicitement** les cas où cette numérotation-joueur devra être utilisée (pour `afficher()`, `atoidejouer()` et `jeu()`).\n",
    "Sinon, la numérotation-développeur reste celle à utiliser.\n",
    "\n",
    "Si besoin :\n",
    "- `afficher()` est adapté pour visualiser la _numérotation-joueur_\n",
    "- `print()` est adapté pour visualiser la _numérotation-développeur._"
   ]
  },
  {
   "cell_type": "markdown",
   "metadata": {
    "deletable": false,
    "editable": false,
    "nbgrader": {
     "cell_type": "markdown",
     "checksum": "98ece108676ba36f90aa56cfe72be621",
     "grade": false,
     "grade_id": "cell-6c86d9bd79e44eb4",
     "locked": true,
     "schema_version": 3,
     "solution": false,
     "task": false
    }
   },
   "source": [
    "Ecrire la fonction `afficher()` selon l'en-tête suivant où le paramètre booléen `debug` permet de compléter l'affichage précédent avec les numéros-joueur des lignes et des colonnes de la grille comme ci-dessous pour `g1`.  \n",
    "\n",
    "```\n",
    ". . . . . . . |6\n",
    ". . . . . . . |5\n",
    ". . O . . . . |4\n",
    ". . X O X . . |3\n",
    ". O X X O . . |2\n",
    "X O O O X X . |1\n",
    "-------------\n",
    "1 2 3 4 5 6 7\n",
    "```\n",
    "Si `debug == True`, `afficher()` réalisera l'affichage ci-dessus.\n",
    "\n",
    "Si `debug == False`, `afficher()` réalisera l'affichage sans numéro de lignes, ni de colonnes.\n",
    "\n",
    "Cette fonction pourra s'inspirer de la fonction `grille_en_str()`.\n",
    "Elle réalise l'affichage demandé : il s'agit donc d'une _procédure_ d'affichage (qui mélange des traitements spécifiques et des entrées-sorties).  "
   ]
  },
  {
   "cell_type": "code",
   "execution_count": null,
   "metadata": {
    "deletable": false,
    "nbgrader": {
     "cell_type": "code",
     "checksum": "e1364ad3ccd19f1acf5d35fae41d0f49",
     "grade": false,
     "grade_id": "cell-434564f34ec29c88",
     "locked": false,
     "schema_version": 3,
     "solution": true
    }
   },
   "outputs": [],
   "source": [
    "def afficher(g : list[list[int]], dimv : int, dimh : int, debug : bool) -> None:\n",
    "# ENTRER VOTRE CODE A LA PLACE DE CES 2 LIGNES\n",
    "raise NotImplementedError()\n"
   ]
  },
  {
   "cell_type": "code",
   "execution_count": null,
   "metadata": {
    "deletable": false,
    "editable": false,
    "nbgrader": {
     "cell_type": "code",
     "checksum": "7b31f5f366a9503f73068b05c27ee7f3",
     "grade": true,
     "grade_id": "cell-3c79b281dcee3bed",
     "locked": true,
     "points": 1,
     "schema_version": 3,
     "solution": false,
     "task": false
    }
   },
   "outputs": [],
   "source": [
    "# Ne pas écrire dans cette cellule"
   ]
  },
  {
   "cell_type": "markdown",
   "metadata": {
    "deletable": false,
    "editable": false,
    "nbgrader": {
     "cell_type": "markdown",
     "checksum": "e8f10cf89e31de3e6c4d65291af38c36",
     "grade": false,
     "grade_id": "cell-f60f848d54e37ae8",
     "locked": true,
     "schema_version": 3,
     "solution": false,
     "task": false
    }
   },
   "source": [
    "($\\star$) **application**\n",
    "\n",
    "Vérifier que les affichages de `g1` sont identiques à ceux indiqués au dessus."
   ]
  },
  {
   "cell_type": "code",
   "execution_count": null,
   "metadata": {
    "deletable": false,
    "editable": false,
    "nbgrader": {
     "cell_type": "code",
     "checksum": "18f7113531191855197b180bf611ed96",
     "grade": false,
     "grade_id": "cell-2f2c757b26acfd43",
     "locked": true,
     "schema_version": 3,
     "solution": false,
     "task": false
    }
   },
   "outputs": [],
   "source": [
    "print(afficher(g1, NBL, NBC, debug=True))\n",
    "print(afficher(g1, NBL, NBC, debug=False))"
   ]
  },
  {
   "cell_type": "markdown",
   "metadata": {
    "deletable": false,
    "editable": false,
    "hideCode": true,
    "hideOutput": true,
    "nbgrader": {
     "cell_type": "markdown",
     "checksum": "06af922865f50d44728331a0aed21c13",
     "grade": false,
     "grade_id": "cell-de2022ca4b2bbb1f",
     "locked": true,
     "schema_version": 3,
     "solution": false,
     "task": false
    }
   },
   "source": [
    "## estValide()\n",
    "\n",
    "Cette question n'est pas indispensable pour la suite des traitements.\n",
    "\n",
    "Une grille est valide si les conditions suivantes sont satisfaites.  \n",
    "- la grille comporte 6 lignes et 7 colonnes  \n",
    "- les pions jaunes commençant, il y a le même nombre de pions jaunes et de pions rouges ou un pion jaune de plus   \n",
    "- il y a 21 pions jaunes au plus  \n",
    "- il n'y a pas de case vide \"sous\" une case non vide  \n",
    "\n",
    "Ecrire une fonction `estValide()`\n",
    " selon l'en-tête suivante qui vérifie la validité d'une grille."
   ]
  },
  {
   "cell_type": "code",
   "execution_count": null,
   "metadata": {
    "deletable": false,
    "nbgrader": {
     "cell_type": "code",
     "checksum": "eb5e827099f3a27145145d8c3e1f046b",
     "grade": false,
     "grade_id": "cell-e5ee1ceadb2d4020",
     "locked": false,
     "schema_version": 3,
     "solution": true
    }
   },
   "outputs": [],
   "source": [
    "def estValide(g : list[list[int]], dimv : int, dimh : int) -> bool:\n",
    "# ENTRER VOTRE CODE A LA PLACE DE CES 2 LIGNES\n",
    "raise NotImplementedError()"
   ]
  },
  {
   "cell_type": "markdown",
   "metadata": {
    "deletable": false,
    "editable": false,
    "hideCode": true,
    "hideOutput": true,
    "nbgrader": {
     "cell_type": "markdown",
     "checksum": "abbcfdff74bdb2efa80e5dc6db5b3156",
     "grade": false,
     "grade_id": "cell-2a51e68d991caeef",
     "locked": true,
     "schema_version": 3,
     "solution": false
    }
   },
   "source": [
    "### Auto-validation\n",
    "\n",
    "Validez la cellule suivante qui défini la grille **non-valide** `gbad` utilisée pour les tests et les auto-validations."
   ]
  },
  {
   "cell_type": "code",
   "execution_count": null,
   "metadata": {
    "deletable": false,
    "editable": false,
    "nbgrader": {
     "cell_type": "code",
     "checksum": "e9da14f8bd7a7155dc1a3371e7e6a383",
     "grade": false,
     "grade_id": "cell-6b7131b25c30bbfc",
     "locked": true,
     "schema_version": 3,
     "solution": false,
     "task": false
    }
   },
   "outputs": [],
   "source": [
    "g1 = [[2, 1, 1, 1, 2, 2, 0], [0, 1, 2, 2, 1, 0, 0], [0, 0, 2, 1, 2, 0, 0], [0, 0, 1, 0, 0, 0, 0], [0, 0, 0, 0, 0, 0, 0], [0, 0, 0, 0, 0, 0, 0]]\n",
    "gbad = [[2, 1, 1, 1, 2, 2, 0], [0, 1, 2, 2, 1, 0, 0], [0, 0, 0, 1, 2, 0, 0], [0, 0, 1, 0, 0, 0, 0], [0, 0, 0, 0, 0, 0, 0], [0, 0, 0, 0, 0, 0, 0]]"
   ]
  },
  {
   "cell_type": "markdown",
   "metadata": {
    "deletable": false,
    "editable": false,
    "nbgrader": {
     "cell_type": "markdown",
     "checksum": "fc03d876926904d60abe3a6672a7bb4c",
     "grade": false,
     "grade_id": "cell-5d96b14dda781b4c",
     "locked": true,
     "schema_version": 3,
     "solution": false,
     "task": false
    }
   },
   "source": [
    "La cellule d'auto-validation suivante doit s'exécuter sans erreur."
   ]
  },
  {
   "cell_type": "code",
   "execution_count": null,
   "metadata": {
    "deletable": false,
    "editable": false,
    "nbgrader": {
     "cell_type": "code",
     "checksum": "752c2ac668413a327da8b1c373c2d729",
     "grade": false,
     "grade_id": "cell-93cff3dfb564c4c1",
     "locked": true,
     "schema_version": 3,
     "solution": false,
     "task": false
    }
   },
   "outputs": [],
   "source": [
    "assert estValide(g1, NBL, NBC) == True\n",
    "assert estValide(gbad, NBL, NBC) == False"
   ]
  },
  {
   "cell_type": "markdown",
   "metadata": {
    "deletable": false,
    "editable": false,
    "nbgrader": {
     "cell_type": "markdown",
     "checksum": "8ae0d94f46f9a21354428dae1730d92e",
     "grade": false,
     "grade_id": "cell-ed87cf8590a07c81",
     "locked": true,
     "schema_version": 3,
     "solution": false,
     "task": false
    }
   },
   "source": [
    "## Gagné ou pas encore ?\n",
    "\n",
    "On va examiner les 4 alignements gagnants d'une couleur donnée. \n",
    "- alignement horizontal : 4 pions de même couleur consécutivement alignés sur une ligne  \n",
    "- alignement vertical : 4 pions de même couleur consécutivement alignés sur une colonne  \n",
    "- alignement selon une diagonale SudEst-NordOuest : 4 pions de même couleur consécutivement alignés sur une diagonale \"d'en bas à gauche vers le haut à droite\"  \n",
    "- alignement selon une diagonale SudOuest-NordEst : 4 pions de même couleur consécutivement alignés sur une diagonale \"d'en bas à droite vers le haut à gauche\"    "
   ]
  },
  {
   "cell_type": "markdown",
   "metadata": {
    "deletable": false,
    "editable": false,
    "nbgrader": {
     "cell_type": "markdown",
     "checksum": "f034d6e8ece47bd07df03328025a960a",
     "grade": false,
     "grade_id": "cell-f6a1c5598ea4de74",
     "locked": true,
     "schema_version": 3,
     "solution": false
    }
   },
   "source": [
    "### horiz()\n",
    "\n",
    "Ecrire selon l'en-tête suivant, la fonction `horiz()` qui vérifie si la grille présente un alignement horizontal gagnant d'une couleur donnée : 4 pions de même couleurs consécutivement alignés sur une ligne. \n",
    "\n",
    "Cette fonction retourne le numéro de la ligne de l'alignement trouvé ou -1 sinon.  \n",
    "\n",
    "**Attention :** les lignes sont en numéro-développeur."
   ]
  },
  {
   "cell_type": "code",
   "execution_count": null,
   "metadata": {
    "deletable": false,
    "nbgrader": {
     "cell_type": "code",
     "checksum": "f8a3d30c15f26366532a5ef043eaa006",
     "grade": false,
     "grade_id": "cell-3a5f8b8b500af5dd",
     "locked": false,
     "schema_version": 3,
     "solution": true
    }
   },
   "outputs": [],
   "source": [
    "def horiz(c : couleurs, g : list[list[int]],  dimv : int, dimh : int) -> int:\n",
    "# ENTRER VOTRE CODE A LA PLACE DE CES 2 LIGNES\n",
    "raise NotImplementedError()"
   ]
  },
  {
   "cell_type": "code",
   "execution_count": null,
   "metadata": {
    "deletable": false,
    "editable": false,
    "nbgrader": {
     "cell_type": "code",
     "checksum": "dab51c2918efc550fee9c04353b02902",
     "grade": true,
     "grade_id": "cell-d5758a59c60d35ab",
     "locked": true,
     "points": 1,
     "schema_version": 3,
     "solution": false
    }
   },
   "outputs": [],
   "source": [
    "# Ne pas écrire dans cette cellule"
   ]
  },
  {
   "cell_type": "markdown",
   "metadata": {
    "deletable": false,
    "editable": false,
    "nbgrader": {
     "cell_type": "markdown",
     "checksum": "588033936c93dacd1cca248474b8eaff",
     "grade": false,
     "grade_id": "cell-0b58604e8b26ac2b",
     "locked": true,
     "schema_version": 3,
     "solution": false
    }
   },
   "source": [
    "#### Auto-validation\n",
    "\n",
    "L'auto-validation suivante doit s'exécuter sans erreur."
   ]
  },
  {
   "cell_type": "code",
   "execution_count": null,
   "metadata": {
    "deletable": false,
    "editable": false,
    "nbgrader": {
     "cell_type": "code",
     "checksum": "15b81b645ae5145e3b4cfd3354261500",
     "grade": false,
     "grade_id": "cell-3d650fb1c3473fa6",
     "locked": true,
     "schema_version": 3,
     "solution": false
    }
   },
   "outputs": [],
   "source": [
    "g0 = [[0 for j in range(NBC)] for i in range(NBL)]\n",
    "g0[0] = [1, 2, 1, 2, 1, 2, 1]\n",
    "g0[1] = [1, 1, 2, 1, 1, 2, 1]\n",
    "g0[2] = [1, 2, 2, 2, 2, 2, 0]\n",
    "\n",
    "assert horiz(JAUNE, g0, NBL, NBC) == -1\n",
    "assert horiz(ROUGE, g0, NBL, NBC) == 2"
   ]
  },
  {
   "cell_type": "markdown",
   "metadata": {
    "deletable": false,
    "editable": false,
    "nbgrader": {
     "cell_type": "markdown",
     "checksum": "5dcd6735f1c3d9ba6b1f794921993067",
     "grade": false,
     "grade_id": "cell-07d649d6d7b3d0b5",
     "locked": true,
     "schema_version": 3,
     "solution": false
    }
   },
   "source": [
    "### vertic()\n",
    "\n",
    "Ecrire selon l'en-tête suivant, la fonction `vertic()` qui vérifie si la grille présente un alignement vertical gagnant d'une couleur donnée (4 pions de même couleur consécutivement alignés sur une colonne). \n",
    "\n",
    "Cette fonction retourne le numéro de la colonne de l'alignement trouvé ou -1 sinon.  \n",
    "\n",
    "**Attention :** les colonnes sont en numéro-développeur."
   ]
  },
  {
   "cell_type": "code",
   "execution_count": null,
   "metadata": {
    "deletable": false,
    "nbgrader": {
     "cell_type": "code",
     "checksum": "aa9e4896700b6ea5998d9a96b89db928",
     "grade": false,
     "grade_id": "cell-673f269057ebe501",
     "locked": false,
     "schema_version": 3,
     "solution": true
    }
   },
   "outputs": [],
   "source": [
    "def vertic(c : couleurs, g : list[list[int]],  dimv : int, dimh : int) -> int:\n",
    "# ENTRER VOTRE CODE A LA PLACE DE CES 2 LIGNES\n",
    "raise NotImplementedError()"
   ]
  },
  {
   "cell_type": "code",
   "execution_count": null,
   "metadata": {
    "deletable": false,
    "editable": false,
    "nbgrader": {
     "cell_type": "code",
     "checksum": "8a430c04104b411eb222e395362c28c1",
     "grade": true,
     "grade_id": "cell-d26d8d557fd8df76",
     "locked": true,
     "points": 1,
     "schema_version": 3,
     "solution": false
    }
   },
   "outputs": [],
   "source": [
    "# Ne pas écrire dans cette cellule\n"
   ]
  },
  {
   "cell_type": "markdown",
   "metadata": {
    "deletable": false,
    "editable": false,
    "nbgrader": {
     "cell_type": "markdown",
     "checksum": "564b3ba5f9e1f64d8f840373f982aeb9",
     "grade": false,
     "grade_id": "cell-9034f2dc6f2ae1d6",
     "locked": true,
     "schema_version": 3,
     "solution": false
    }
   },
   "source": [
    "#### Auto-validation\n",
    "\n",
    "On définit deux configurations **non valides** d'une grille qui permettent de vérifier l'alignement vertical gagnant pour chacune des couleurs.\n",
    "\n",
    "L'auto-validation suivante doit s'exécuter sans erreur."
   ]
  },
  {
   "cell_type": "code",
   "execution_count": null,
   "metadata": {
    "deletable": false,
    "editable": false,
    "nbgrader": {
     "cell_type": "code",
     "checksum": "acbb2a8d2f56a90ab4ea0e0a992ec2a9",
     "grade": false,
     "grade_id": "cell-f3d2e3597d745aaa",
     "locked": true,
     "schema_version": 3,
     "solution": false,
     "task": false
    }
   },
   "outputs": [],
   "source": [
    "g_testvert = [[0 for j in range(NBC)] for i in range(NBL)]\n",
    "for i in range(NBL-2):\n",
    "    g_testvert[i][3] = 1\n",
    "for i in range(NBL-3):\n",
    "    g_testvert[i][NBC-1] = 2\n",
    "    \n",
    "assert vertic(JAUNE, g_testvert, NBL, NBC) == 3\n",
    "assert vertic(ROUGE, g_testvert, NBL, NBC) == -1\n",
    "\n",
    "g_testvert[2][3] = 2\n",
    "g_testvert[3][NBC-1] = 2\n",
    "\n",
    "assert vertic(JAUNE, g_testvert, NBL, NBC) == -1\n",
    "assert vertic(ROUGE, g_testvert, NBL, NBC) == 6\n"
   ]
  },
  {
   "cell_type": "markdown",
   "metadata": {
    "deletable": false,
    "editable": false,
    "nbgrader": {
     "cell_type": "markdown",
     "checksum": "8238b25fbbda367d477a55dd83b775c4",
     "grade": false,
     "grade_id": "cell-c1db2c672fc6f85b",
     "locked": true,
     "schema_version": 3,
     "solution": false
    }
   },
   "source": [
    "### diagoSENO()\n",
    "\n",
    "\n",
    "Ecrire selon l'en-tête suivant, la fonction `diagoSENO()` qui vérifie si la grille présente un alignement diagonal gagnant d'une couleur donnée : 4 pions consécutifs de même couleur diagonalement alignés.\n",
    "\n",
    "**Attention.** \n",
    "- L'orientation **Nord-Sud** est celle **du tableau python** qui représente la grille de jeu, _ie._ celle de la numérotation-développeur.\n",
    "Elle est donc inverse à l'orientation de la grille vue par le joueur .  \n",
    "- L'orientation Est-Ouest est identique pour la grille vue par le joueur et le tableau python qui la représente.  \n",
    "\n",
    "Cette fonction retourne 1 si un tel alignement est présent ou -1 sinon."
   ]
  },
  {
   "cell_type": "code",
   "execution_count": null,
   "metadata": {
    "deletable": false,
    "nbgrader": {
     "cell_type": "code",
     "checksum": "98e9095e1f7a33b30b65e67de758d5f9",
     "grade": false,
     "grade_id": "cell-6e57bf0ece3d5a1f",
     "locked": false,
     "schema_version": 3,
     "solution": true
    }
   },
   "outputs": [],
   "source": [
    "def diagoSENO(c : couleurs, g : list[list[int]],  dimv : int, dimh : int) -> int:\n",
    "# ENTRER VOTRE CODE A LA PLACE DE CES 2 LIGNES\n",
    "raise NotImplementedError()"
   ]
  },
  {
   "cell_type": "code",
   "execution_count": null,
   "metadata": {
    "deletable": false,
    "editable": false,
    "nbgrader": {
     "cell_type": "code",
     "checksum": "2d0d2d32aa063c621ce4b87cea35268a",
     "grade": true,
     "grade_id": "cell-db0d74a5c04fb8d9",
     "locked": true,
     "points": 1,
     "schema_version": 3,
     "solution": false
    }
   },
   "outputs": [],
   "source": [
    "# Ne pas écrire dans cette cellule\n"
   ]
  },
  {
   "cell_type": "markdown",
   "metadata": {
    "deletable": false,
    "editable": false,
    "nbgrader": {
     "cell_type": "markdown",
     "checksum": "c0bd3d4ed790d84ceaf1de1330332ffa",
     "grade": false,
     "grade_id": "cell-6b49afee09698f91",
     "locked": true,
     "schema_version": 3,
     "solution": false,
     "task": false
    }
   },
   "source": [
    "#### Auto-validation\n",
    "\n",
    "L'auto-validation suivante doit s'exécuter sans erreur."
   ]
  },
  {
   "cell_type": "code",
   "execution_count": null,
   "metadata": {
    "deletable": false,
    "editable": false,
    "nbgrader": {
     "cell_type": "code",
     "checksum": "fb4315959e3a8e4d1627460eec2e4d65",
     "grade": false,
     "grade_id": "cell-d6bbe12e2ad4fc87",
     "locked": true,
     "schema_version": 3,
     "solution": false,
     "task": false
    }
   },
   "outputs": [],
   "source": [
    "g_testdiago1 = [[0 for j in range(NBC)] for i in range(NBL)]\n",
    "for i in range(4):\n",
    "    for j in range(2, 6):\n",
    "        g_testdiago1[i][j] = 2 \n",
    "\n",
    "#afficher(g_testdiago1, NBL, NBC, debug=True)\n",
    "assert diagoSENO(JAUNE, g_testdiago1, NBL, NBC) == -1\n",
    "assert diagoSENO(ROUGE, g_testdiago1, NBL, NBC) == 1\n",
    "\n",
    "g_testdiago1[0][5] = 1\n",
    "#afficher(g_testdiago1, NBL, NBC, debug=True)\n",
    "assert diagoSENO(JAUNE, g_testdiago1, NBL, NBC) == -1\n",
    "assert diagoSENO(ROUGE, g_testdiago1, NBL, NBC) == -1\n",
    "\n",
    "g_testdiago1[4][2] = 2\n",
    "#afficher(g_testdiago1, NBL, NBC, debug=True)\n",
    "assert diagoSENO(JAUNE, g_testdiago1, NBL, NBC) == -1\n",
    "assert diagoSENO(ROUGE, g_testdiago1, NBL, NBC) == 1\n"
   ]
  },
  {
   "cell_type": "markdown",
   "metadata": {
    "deletable": false,
    "editable": false,
    "nbgrader": {
     "cell_type": "markdown",
     "checksum": "c728be6d9ec2dcaacab6a68d4178dd7c",
     "grade": false,
     "grade_id": "cell-de1af7f943f3c92f",
     "locked": true,
     "schema_version": 3,
     "solution": false
    }
   },
   "source": [
    "### diagoSONE()\n",
    "\n",
    "Ecrire selon l'en-tête suivant, la fonction `diagoSONE()` qui vérifie l'autre  alignement diagonal gagnant d'une couleur donnée.   \n",
    "Cette fonction retourne 1 si un tel alignement est présent, ou -1 sinon."
   ]
  },
  {
   "cell_type": "code",
   "execution_count": null,
   "metadata": {
    "deletable": false,
    "nbgrader": {
     "cell_type": "code",
     "checksum": "48887a3c5e1a00332142c0ec43672368",
     "grade": false,
     "grade_id": "cell-48226e4bdba25ebb",
     "locked": false,
     "schema_version": 3,
     "solution": true
    }
   },
   "outputs": [],
   "source": [
    "def diagoSONE(c : couleurs, g : list[list[int]],  dimv : int, dimh : int) -> int:\n",
    "# ENTRER VOTRE CODE A LA PLACE DE CES 2 LIGNES\n",
    "raise NotImplementedError()"
   ]
  },
  {
   "cell_type": "code",
   "execution_count": null,
   "metadata": {
    "deletable": false,
    "editable": false,
    "nbgrader": {
     "cell_type": "code",
     "checksum": "a5f9f502b77d904ebe4effe7804e8725",
     "grade": true,
     "grade_id": "cell-b63cb32a3508405a",
     "locked": true,
     "points": 1,
     "schema_version": 3,
     "solution": false
    }
   },
   "outputs": [],
   "source": [
    "# Ne pas écrire dans cette cellule\n"
   ]
  },
  {
   "cell_type": "markdown",
   "metadata": {
    "deletable": false,
    "editable": false,
    "nbgrader": {
     "cell_type": "markdown",
     "checksum": "598c93a1435be139ef0f7e656ef23876",
     "grade": false,
     "grade_id": "cell-3422e007843df03c",
     "locked": true,
     "schema_version": 3,
     "solution": false,
     "task": false
    }
   },
   "source": [
    "#### Auto-validation\n",
    "\n",
    "L'auto-validation suivante doit s'exécuter sans erreur."
   ]
  },
  {
   "cell_type": "code",
   "execution_count": null,
   "metadata": {
    "deletable": false,
    "editable": false,
    "nbgrader": {
     "cell_type": "code",
     "checksum": "f17c5a00c3b358bbd5dcb1e045f20897",
     "grade": false,
     "grade_id": "cell-71fc7126ada02e0f",
     "locked": true,
     "schema_version": 3,
     "solution": false,
     "task": false
    }
   },
   "outputs": [],
   "source": [
    "g_testdiago1 = [[0 for j in range(NBC)] for i in range(NBL)]\n",
    "for i in range(4):\n",
    "    for j in range(2, 6):\n",
    "        g_testdiago1[i][j] = 2 \n",
    "\n",
    "assert diagoSONE(JAUNE, g_testdiago1, NBL, NBC) == -1\n",
    "assert diagoSONE(ROUGE, g_testdiago1, NBL, NBC) == 1\n",
    "\n",
    "g_testdiago1[0][5] = 1\n",
    "assert diagoSONE(JAUNE, g_testdiago1, NBL, NBC) == -1\n",
    "assert diagoSONE(ROUGE, g_testdiago1, NBL, NBC) == -1\n",
    "\n",
    "g_testdiago1[4][2] = 2\n",
    "#afficher(g_testdiago1, NBL, NBC, debug=True)\n",
    "assert diagoSONE(JAUNE, g_testdiago1, NBL, NBC) == -1\n",
    "assert diagoSONE(ROUGE, g_testdiago1, NBL, NBC) == 1\n"
   ]
  },
  {
   "cell_type": "markdown",
   "metadata": {
    "deletable": false,
    "editable": false,
    "nbgrader": {
     "cell_type": "markdown",
     "checksum": "7285c4e27fee5a8d2b9399adb4312e86",
     "grade": false,
     "grade_id": "cell-fc94a7dddc14b452",
     "locked": true,
     "schema_version": 3,
     "solution": false
    }
   },
   "source": [
    "### est_gagnante()\n",
    "\n",
    "Ecrire selon l'en-tête suivant, la fonction `est_gagnante()` qui vérifie si la grille `g` est gagnante pour la couleur `c`.\n",
    "\n",
    "Cette fonction retourne un booléen."
   ]
  },
  {
   "cell_type": "code",
   "execution_count": null,
   "metadata": {
    "deletable": false,
    "nbgrader": {
     "cell_type": "code",
     "checksum": "e9df80667e4946ca2cbd5348832a5739",
     "grade": false,
     "grade_id": "cell-ef6a7cb6c7a8a002",
     "locked": false,
     "schema_version": 3,
     "solution": true
    }
   },
   "outputs": [],
   "source": [
    "def est_gagnante(c : couleurs, g : list[list[int]], dimv : int, dimh : int) -> bool:\n",
    "# ENTRER VOTRE CODE A LA PLACE DE CES 2 LIGNES\n",
    "raise NotImplementedError()"
   ]
  },
  {
   "cell_type": "code",
   "execution_count": null,
   "metadata": {
    "deletable": false,
    "editable": false,
    "nbgrader": {
     "cell_type": "code",
     "checksum": "a8b967c963db23fa837f8dee7dbce2b8",
     "grade": true,
     "grade_id": "cell-ae355b0a8e5e99a9",
     "locked": true,
     "points": 1,
     "schema_version": 3,
     "solution": false,
     "task": false
    }
   },
   "outputs": [],
   "source": [
    "# Ne pas écrire dans cette cellule\n"
   ]
  },
  {
   "cell_type": "markdown",
   "metadata": {
    "deletable": false,
    "editable": false,
    "nbgrader": {
     "cell_type": "markdown",
     "checksum": "6d13931bd3820eebd2e38f6d895944bb",
     "grade": false,
     "grade_id": "cell-3e92cdb991433330",
     "locked": true,
     "schema_version": 3,
     "solution": false,
     "task": false
    }
   },
   "source": [
    "#### Auto-validation\n",
    "\n",
    "L'auto-validation suivante doit s'exécuter sans erreur."
   ]
  },
  {
   "cell_type": "code",
   "execution_count": null,
   "metadata": {
    "deletable": false,
    "editable": false,
    "nbgrader": {
     "cell_type": "code",
     "checksum": "7f2879a67fd502a34bc5207412bf256c",
     "grade": false,
     "grade_id": "cell-8cf6d39d6b25a529",
     "locked": true,
     "schema_version": 3,
     "solution": false,
     "task": false
    }
   },
   "outputs": [],
   "source": [
    "g0 = [[0 for j in range(NBC)] for i in range(NBL)]\n",
    "faux = est_gagnante(JAUNE, g0, NBL, NBC)\n",
    "assert faux == False\n",
    "faux = est_gagnante(JAUNE, g0, NBL, NBC)\n",
    "assert faux == False\n",
    "\n",
    "for i in range(0,4):\n",
    "    g0[i][3] = 1\n",
    "for j in range(0,3):\n",
    "    g0[0][j] = 2\n",
    "g0[0][4] = 2\n",
    "\n",
    "vrai = est_gagnante(JAUNE, g0, NBL, NBC)\n",
    "assert vrai == True\n",
    "faux = est_gagnante(ROUGE, g0, NBL, NBC)\n",
    "assert faux == False"
   ]
  },
  {
   "cell_type": "markdown",
   "metadata": {
    "deletable": false,
    "editable": false,
    "nbgrader": {
     "cell_type": "markdown",
     "checksum": "33d73a202b2dc3163bc07a31b9883aac",
     "grade": false,
     "grade_id": "cell-f15bea482310206c",
     "locked": true,
     "schema_version": 3,
     "solution": false
    }
   },
   "source": [
    "## Jouons !\n",
    "\n",
    "On commence avec une fonction qui réalise l'interface entre le joueur et le jeu.\n",
    "\n",
    "### à toi de jouer\n",
    "\n",
    "Ecrire selon l'en-tête suivant, une fonction `atoidejouer()` qui demande au joueur dans quelle colonne de `g` il dépose son jeton de couleur `c`.\n",
    "\n",
    "**Attention : numérotation.** Cette fonction :\n",
    "- prend \"en entrée\" le **numéro-joueur** de colonne saisi au clavier, \n",
    "- retourne le **numéro-développeur** correspondant pour les traitements à suivre. "
   ]
  },
  {
   "cell_type": "code",
   "execution_count": null,
   "metadata": {
    "deletable": false,
    "nbgrader": {
     "cell_type": "code",
     "checksum": "8ff64785d3a6f999026b70791b309f1f",
     "grade": true,
     "grade_id": "cell-ece5b57720b3d37c",
     "locked": false,
     "points": 1,
     "schema_version": 3,
     "solution": true,
     "task": false
    }
   },
   "outputs": [],
   "source": [
    "def atoidejouer(c : couleurs, g : list[list[int]], dimv : int, dimh : int) -> int:\n",
    "# ENTRER VOTRE CODE A LA PLACE DE CES 2 LIGNES\n",
    "raise NotImplementedError()"
   ]
  },
  {
   "cell_type": "markdown",
   "metadata": {
    "deletable": false,
    "editable": false,
    "nbgrader": {
     "cell_type": "markdown",
     "checksum": "88207330099129909242a06dfd147db6",
     "grade": false,
     "grade_id": "cell-cf01fb7734e0f5bf",
     "locked": true,
     "schema_version": 3,
     "solution": false
    }
   },
   "source": [
    "#### Auto-validation\n",
    "\n",
    "Entrez successivement `1` et `2` et l'auto-validation suivante doit s'exécuter sans erreur."
   ]
  },
  {
   "cell_type": "code",
   "execution_count": null,
   "metadata": {
    "deletable": false,
    "editable": false,
    "nbgrader": {
     "cell_type": "code",
     "checksum": "0c5ebb733006f8c61318f249074bac56",
     "grade": false,
     "grade_id": "cell-3c5cdba938ef3db4",
     "locked": true,
     "schema_version": 3,
     "solution": false,
     "task": false
    }
   },
   "outputs": [],
   "source": [
    "g0 = [[0 for j in range(NBC)] for i in range(NBL)]\n",
    "\n",
    "zero = atoidejouer(JAUNE, g0, NBL, NBC)\n",
    "assert zero == 0                   \n",
    "                   \n",
    "un = atoidejouer(ROUGE, g0, NBL, NBC)\n",
    "assert un == 1  "
   ]
  },
  {
   "cell_type": "markdown",
   "metadata": {
    "deletable": false,
    "editable": false,
    "nbgrader": {
     "cell_type": "markdown",
     "checksum": "b5b98e16e997ddae60583442eba1c944",
     "grade": false,
     "grade_id": "cell-bbcf67dbb80022e7",
     "locked": true,
     "schema_version": 3,
     "solution": false,
     "task": false
    },
    "tags": []
   },
   "source": [
    "### jouer() \n",
    "\n",
    "Ecrire selon l'en-tête suivant, la fonction `jouer()` qui ajoute un pion de couleur `c` à la colonne `colonne` à la grille de jeu en cours `g` (de dimensions habituelles). \n",
    "\n",
    "Cette fonction modifie l'état de la grille `g`. C'est donc une procédure qui ne retourne aucun résultat (autre que `None` en python). \n",
    "\n",
    "**Attention : numérotation**. `colonne` désigne la numérotation-développeur.\n",
    "\n",
    "Pour cette version simple de `jouer()`, on supposera que les valeurs de `c` et de `colonne` ont du sens et ne rendent pas la grille non valide."
   ]
  },
  {
   "cell_type": "code",
   "execution_count": null,
   "metadata": {
    "deletable": false,
    "nbgrader": {
     "cell_type": "code",
     "checksum": "f72139d3f5b6c0827c13c898c2cc1147",
     "grade": true,
     "grade_id": "cell-55f8bf4adf268fc5",
     "locked": false,
     "points": 1,
     "schema_version": 3,
     "solution": true,
     "task": false
    }
   },
   "outputs": [],
   "source": [
    "def jouer(c : couleurs, colonne : int, g : list[list[int]], dimv : int, dimh : int) -> None:\n",
    "# ENTRER VOTRE CODE A LA PLACE DE CES 2 LIGNES\n",
    "raise NotImplementedError()"
   ]
  },
  {
   "cell_type": "markdown",
   "metadata": {
    "deletable": false,
    "editable": false,
    "nbgrader": {
     "cell_type": "markdown",
     "checksum": "040eabeb9daf3a3b6fa62f5210f9cb64",
     "grade": false,
     "grade_id": "cell-4e286a0f8fbeeb03",
     "locked": true,
     "schema_version": 3,
     "solution": false,
     "task": false
    }
   },
   "source": [
    "#### Auto-validation\n",
    "\n",
    "L'auto-validation suivante doit s'exécuter sans erreur."
   ]
  },
  {
   "cell_type": "code",
   "execution_count": null,
   "metadata": {
    "deletable": false,
    "editable": false,
    "nbgrader": {
     "cell_type": "code",
     "checksum": "9dfc695f998cc904606e7c0120ab0e3a",
     "grade": false,
     "grade_id": "cell-0d730072c0606388",
     "locked": true,
     "schema_version": 3,
     "solution": false,
     "task": false
    }
   },
   "outputs": [],
   "source": [
    "# g1 dans son état initial\n",
    "g1 = [[2, 1, 1, 1, 2, 2, 0], [0, 1, 2, 2, 1, 0, 0], [0, 0, 2, 1, 2, 0, 0], [0, 0, 1, 0, 0, 0, 0], [0, 0, 0, 0, 0, 0, 0], [0, 0, 0, 0, 0, 0, 0]]\n",
    "\n",
    "# un tour de jeu\n",
    "jouer(JAUNE, 1, g1, NBL, NBC)\n",
    "jouer(ROUGE, 3, g1, NBL, NBC)\n",
    "\n",
    "# vérifications\n",
    "assert g1[2][1] == code(JAUNE)\n",
    "assert g1[3][3] == code(ROUGE)"
   ]
  },
  {
   "cell_type": "markdown",
   "metadata": {
    "deletable": false,
    "editable": false,
    "nbgrader": {
     "cell_type": "markdown",
     "checksum": "80f1e88dfa4b8d4f528397cac928afe2",
     "grade": false,
     "grade_id": "cell-ffbb389b750597a5",
     "locked": true,
     "schema_version": 3,
     "solution": false
    }
   },
   "source": [
    "### jeu()\n",
    "\n",
    "On peut maintenant utiliser les développements précédents pour écrire selon l'en-tête suivant, une fonction `jeu()` qui permet à deux joueurs de jouer comme suit.  \n",
    "- Avec `atoidejouer()`, demander à chaque joueur de jouer à son tour, en commençant par les jaunes.\n",
    "    - On suppose (ici) que le joueur choisit une colonne valide\n",
    "- La grille de jeu est affichée après chaque action de jeu  \n",
    "- Le jeu s'arrête quand un des joueurs a gagné ou en cas d'égalité (blocage) \n",
    "- Le résultat est **affiché à l'écran**  comme suit :\n",
    "```\n",
    "Les pions jaunes/rouges gagnent. Bravo !\n",
    "```\n",
    "ou en cas d'égalité (blocage) :\n",
    "```\n",
    "Egalité ... Recommencez !\n",
    "```\n",
    "La partie s'effectue en complétant la grille `g` qui est :\n",
    "- soit une grille vide à créer avant l'appel,\n",
    "- soit une grille partiellement remplie provenant de la lecture d'un fichier (comme G1.txt). Dans ce cas, il faut donc vérifier la validité de la grille lue dans le fichier et, si besoin afficher le message :\n",
    "```\n",
    "Grille invalide. Jeu stoppé.\n",
    "```\n"
   ]
  },
  {
   "cell_type": "code",
   "execution_count": null,
   "metadata": {
    "deletable": false,
    "nbgrader": {
     "cell_type": "code",
     "checksum": "83c30d98246cf67f27d435c111b989ad",
     "grade": true,
     "grade_id": "cell-28ad996f56f34779",
     "locked": false,
     "points": 1,
     "schema_version": 3,
     "solution": true,
     "task": false
    }
   },
   "outputs": [],
   "source": [
    "def jeu(g : list[list[int]], dimv : int, dimh : int) -> None:\n",
    "# ENTRER VOTRE CODE A LA PLACE DE CES 2 LIGNES\n",
    "raise NotImplementedError()"
   ]
  },
  {
   "cell_type": "markdown",
   "metadata": {
    "deletable": false,
    "editable": false,
    "nbgrader": {
     "cell_type": "markdown",
     "checksum": "442529179144dda00350170f2cccc2ad",
     "grade": false,
     "grade_id": "cell-41dcc23bea49caa5",
     "locked": true,
     "schema_version": 3,
     "solution": false,
     "task": false
    }
   },
   "source": [
    "#### Auto-validation 1\n",
    "\n",
    "Entrez successivement `2, 2` pour que l'exécution de la cellule suivante fasse gagner les rouges (`X`)."
   ]
  },
  {
   "cell_type": "code",
   "execution_count": null,
   "metadata": {
    "deletable": false,
    "editable": false,
    "nbgrader": {
     "cell_type": "code",
     "checksum": "06fa56509cf24eecec0f7fb39a9f5dad",
     "grade": false,
     "grade_id": "cell-13dfa74ab957c927",
     "locked": true,
     "schema_version": 3,
     "solution": false,
     "task": false
    }
   },
   "outputs": [],
   "source": [
    "# g1 dans son état initial\n",
    "g1 = [[2, 1, 1, 1, 2, 2, 0], [0, 1, 2, 2, 1, 0, 0], [0, 0, 2, 1, 2, 0, 0], [0, 0, 1, 0, 0, 0, 0], [0, 0, 0, 0, 0, 0, 0], [0, 0, 0, 0, 0, 0, 0]]\n",
    "print(\"Entrer 2 puis 2 et les rouges gagnent\")\n",
    "jeu(g1, NBL, NBC)"
   ]
  },
  {
   "cell_type": "markdown",
   "metadata": {
    "deletable": false,
    "editable": false,
    "nbgrader": {
     "cell_type": "markdown",
     "checksum": "aa351524ad0a36ec268020cf8a0f6741",
     "grade": false,
     "grade_id": "cell-dff215fe90b5816c",
     "locked": true,
     "schema_version": 3,
     "solution": false,
     "task": false
    }
   },
   "source": [
    "#### Auto-validation 2\n",
    "\n",
    "Entrez successivement `2, 1, 2` pour que l'exécution de la cellule suivante fasse gagner les jaunes (`O`)."
   ]
  },
  {
   "cell_type": "code",
   "execution_count": null,
   "metadata": {
    "deletable": false,
    "editable": false,
    "nbgrader": {
     "cell_type": "code",
     "checksum": "56c7b4bcd0703a2410f5059c5895f52d",
     "grade": false,
     "grade_id": "cell-2731962260cda3ed",
     "locked": true,
     "schema_version": 3,
     "solution": false,
     "task": false
    }
   },
   "outputs": [],
   "source": [
    "g1 = [[2, 1, 1, 1, 2, 2, 0], [0, 1, 2, 2, 1, 0, 0], [0, 0, 2, 1, 2, 0, 0], [0, 0, 1, 0, 0, 0, 0], [0, 0, 0, 0, 0, 0, 0], [0, 0, 0, 0, 0, 0, 0]]\n",
    "print(\"Entrer 212 et les jaunes gagnent\")\n",
    "jeu(g1, NBL, NBC)"
   ]
  }
 ],
 "metadata": {
  "kernelspec": {
   "display_name": "Python 3 (ipykernel)",
   "language": "python",
   "name": "python3"
  },
  "language_info": {
   "codemirror_mode": {
    "name": "ipython",
    "version": 3
   },
   "file_extension": ".py",
   "mimetype": "text/x-python",
   "name": "python",
   "nbconvert_exporter": "python",
   "pygments_lexer": "ipython3",
   "version": "3.9.6"
  },
  "latex_envs": {
   "LaTeX_envs_menu_present": true,
   "autoclose": false,
   "autocomplete": true,
   "bibliofile": "biblio.bib",
   "cite_by": "apalike",
   "current_citInitial": 1,
   "eqLabelWithNumbers": true,
   "eqNumInitial": 1,
   "hotkeys": {
    "equation": "Ctrl-E",
    "itemize": "Ctrl-I"
   },
   "labels_anchors": false,
   "latex_user_defs": false,
   "report_style_numbering": true,
   "user_envs_cfg": false
  },
  "toc": {
   "nav_menu": {},
   "number_sections": true,
   "sideBar": true,
   "skip_h1_title": false,
   "title_cell": "Table des matières",
   "title_sidebar": "TdM",
   "toc_cell": true,
   "toc_position": {
    "height": "475px",
    "left": "888px",
    "top": "134px",
    "width": "211.98529052734375px"
   },
   "toc_section_display": true,
   "toc_window_display": true
  }
 },
 "nbformat": 4,
 "nbformat_minor": 4
}
