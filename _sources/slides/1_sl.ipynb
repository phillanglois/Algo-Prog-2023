{
 "cells": [
  {
   "cell_type": "markdown",
   "id": "54e38149-ce00-4a25-bed4-bb8ab2ce2867",
   "metadata": {
    "slideshow": {
     "slide_type": "slide"
    },
    "tags": []
   },
   "source": [
    "# Fonctions"
   ]
  },
  {
   "cell_type": "markdown",
   "id": "d988dfc6-3073-473c-be91-220a52d21c68",
   "metadata": {
    "slideshow": {
     "slide_type": "slide"
    }
   },
   "source": [
    "**Objectif.**\n",
    "\n",
    "Pourquoi des fonctions ?\n",
    "\n",
    "* Evite de ré-écrire, de dupliquer, du code\n",
    "* Simplifie la lecture donc la compréhension\n",
    "* Ré-utilise des fonctions existantes\n",
    "* Une nouvelle _structure_ pour écrire les algorithmes/codes de façon plus _modulaire_\n",
    "    * découper un traitement compliqué en une suite d'étapes plus simples\n",
    "    * une étape = un appel de fonction\n",
    "    * s'applique récursivement\n",
    "* Facilite la validation du traitement : _test unitaire_"
   ]
  },
  {
   "cell_type": "markdown",
   "id": "db86bd17-f3d6-4740-94af-c7035d6ab3f1",
   "metadata": {
    "slideshow": {
     "slide_type": "slide"
    },
    "tags": []
   },
   "source": [
    "**Notre exemple.**\n",
    "\n",
    "Code qui calcule le nombre de combinaisons de $p$ éléments choisis dans $n$ éléments :\n",
    "\n",
    "$$\\cal{C}_n^p = \\frac{n!}{p! (n-p)!}.$$\n",
    "\n",
    "Rappel : $n! = n \\times (n-1) \\times \\dots \\times 2 \\times 1$ et $0! = 1$."
   ]
  },
  {
   "cell_type": "markdown",
   "id": "07bc9ffb",
   "metadata": {
    "slideshow": {
     "slide_type": "slide"
    },
    "tags": []
   },
   "source": [
    "## Comme au premier semestre : sans fonction"
   ]
  },
  {
   "cell_type": "code",
   "execution_count": null,
   "id": "1f76b509",
   "metadata": {
    "slideshow": {
     "slide_type": "fragment"
    }
   },
   "outputs": [],
   "source": []
  },
  {
   "cell_type": "markdown",
   "id": "e647f258",
   "metadata": {
    "slideshow": {
     "slide_type": "slide"
    },
    "tags": []
   },
   "source": [
    "## Avec une fonction prédéfinie : exemple d'appel de fonction \n",
    "\n",
    "**Indicateur** : `import`, `( paramètre effectif )`"
   ]
  },
  {
   "cell_type": "code",
   "execution_count": null,
   "id": "53f2efbc",
   "metadata": {
    "slideshow": {
     "slide_type": "fragment"
    }
   },
   "outputs": [],
   "source": [
    "\n"
   ]
  },
  {
   "cell_type": "markdown",
   "id": "6c0cd508",
   "metadata": {
    "slideshow": {
     "slide_type": "slide"
    },
    "tags": []
   },
   "source": [
    "## Avec notre propre fonction : d'abord la signature (l'en-tête)\n",
    "\n",
    "**Indicateur** : `def( les paramètres formels et leurs types )` et `pass`"
   ]
  },
  {
   "cell_type": "code",
   "execution_count": null,
   "id": "00faa0f8",
   "metadata": {
    "slideshow": {
     "slide_type": "fragment"
    }
   },
   "outputs": [],
   "source": []
  },
  {
   "cell_type": "markdown",
   "id": "eb0e2760",
   "metadata": {
    "slideshow": {
     "slide_type": "slide"
    }
   },
   "source": [
    "## Avec notre propre fonction : ensuite au moins un appel\n",
    "\n",
    "**Indicateur** : `( paramètre effectif )`"
   ]
  },
  {
   "cell_type": "code",
   "execution_count": null,
   "id": "8c320f3c",
   "metadata": {
    "slideshow": {
     "slide_type": "fragment"
    }
   },
   "outputs": [],
   "source": []
  },
  {
   "cell_type": "markdown",
   "id": "204bf336",
   "metadata": {
    "slideshow": {
     "slide_type": "slide"
    },
    "tags": []
   },
   "source": [
    "## Avec notre propre fonction :  puis sa définition\n",
    "\n",
    "**Indicateur** : la zone indentée sous le `def( les paramètres formels et leurs types )`"
   ]
  },
  {
   "cell_type": "code",
   "execution_count": null,
   "id": "5c942f9c",
   "metadata": {
    "slideshow": {
     "slide_type": "fragment"
    }
   },
   "outputs": [],
   "source": []
  },
  {
   "cell_type": "markdown",
   "id": "c7afc902",
   "metadata": {
    "slideshow": {
     "slide_type": "slide"
    },
    "tags": []
   },
   "source": [
    "## Avec notre propre fonction : on l'utilise à souhait \n",
    "\n",
    "**Indicateur** : `( paramètre effectif )`"
   ]
  },
  {
   "cell_type": "code",
   "execution_count": null,
   "id": "845e9e48",
   "metadata": {
    "slideshow": {
     "slide_type": "fragment"
    }
   },
   "outputs": [],
   "source": []
  },
  {
   "cell_type": "markdown",
   "id": "b3e2ede8",
   "metadata": {
    "slideshow": {
     "slide_type": "slide"
    }
   },
   "source": [
    "## On validons notre fonction avec des test unitaires \n",
    "\n",
    "**Indicateur** : `assert`"
   ]
  },
  {
   "cell_type": "code",
   "execution_count": null,
   "id": "55ec39a3",
   "metadata": {
    "slideshow": {
     "slide_type": "fragment"
    }
   },
   "outputs": [],
   "source": []
  },
  {
   "cell_type": "markdown",
   "id": "67d6cb2d",
   "metadata": {
    "slideshow": {
     "slide_type": "slide"
    }
   },
   "source": [
    "## On termine notre fonction avec sa description \n",
    "\n",
    "**Indicateur** : `docstring`"
   ]
  },
  {
   "cell_type": "code",
   "execution_count": null,
   "id": "62845de2",
   "metadata": {
    "slideshow": {
     "slide_type": "fragment"
    }
   },
   "outputs": [],
   "source": []
  },
  {
   "cell_type": "markdown",
   "id": "85d5e001",
   "metadata": {
    "slideshow": {
     "slide_type": "slide"
    }
   },
   "source": [
    "## Compétences"
   ]
  },
  {
   "cell_type": "markdown",
   "id": "46cebb6e",
   "metadata": {
    "slideshow": {
     "slide_type": "subslide"
    }
   },
   "source": [
    "### Avoir les idées claires\n",
    "\n",
    "- reconnaître et utiliser une fonction prédéfinie ou existante\n",
    "- reconnaître et distinguer :\n",
    "    - définition et paramètres formels _vs._ appel et paramètres effectifs\n",
    "    - spécification, en-tête, signature : spécifier pour utiliser, pour vérifier  _vs._ corps : implémentation du traitement  \n",
    "- comprendre que appel = changement de contexte  \n",
    "    - trace de l'exécution _vs._ séquentialité des instructions écrites \n",
    "    - dynamique vs. statique  \n",
    "- distinguer appelant _vs._ appelé : \n",
    "    - le rôle de l'appel, \n",
    "    - le rôle du `return` \n",
    "- identifier la portée des variables : \n",
    "    - variables locales _vs._ variables plus globales  \n",
    "- se souvenir que l'effet de bord est indésirable  \n",
    "- définir et écrire une spécification de fonction avec des paramètres de type tableau  "
   ]
  },
  {
   "cell_type": "markdown",
   "id": "52ee1f58",
   "metadata": {
    "slideshow": {
     "slide_type": "subslide"
    }
   },
   "source": [
    "### Ce qu'il faut savoir faire \n",
    "\n",
    "**Cadre** : en/pour python \n",
    "\n",
    "- utiliser une fonction prédéfinie ou existante\n",
    "- définir et écrire la spécification d'une fonction qui réalise un traitement décrit en français, ou qui résoud un problème (simple) décrit en français  \n",
    "- définir et écrire des appels simples (tests unitaires) \n",
    "- définir et écrire l'implémentation d'une fonction associée à une spécification "
   ]
  },
  {
   "cell_type": "markdown",
   "id": "5d43d08e-b914-4e9f-96b1-cd2eaebf91fa",
   "metadata": {
    "slideshow": {
     "slide_type": "notes"
    },
    "tags": []
   },
   "source": [
    "```shell\n",
    "jupyter nbconvert '1_sl.ipynb' --to slides --post serve\n",
    "```\n",
    "\n",
    "Janvier 2023, venv : Ne fonctionne pas : pb de templates pas trouvé\n",
    "\n",
    "j2jinja2.exceptions.TemplateNotFound: index.html.j2\n",
    "\n"
   ]
  }
 ],
 "metadata": {
  "celltoolbar": "Diaporama",
  "kernelspec": {
   "display_name": "Python 3 (ipykernel)",
   "language": "python",
   "name": "python3"
  },
  "language_info": {
   "codemirror_mode": {
    "name": "ipython",
    "version": 3
   },
   "file_extension": ".py",
   "mimetype": "text/x-python",
   "name": "python",
   "nbconvert_exporter": "python",
   "pygments_lexer": "ipython3",
   "version": "3.9.6"
  }
 },
 "nbformat": 4,
 "nbformat_minor": 5
}
