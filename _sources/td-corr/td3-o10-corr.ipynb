{
 "cells": [
  {
   "cell_type": "markdown",
   "id": "5b6e3fa5-2ecb-4d38-9ffc-754f6d81c3bc",
   "metadata": {
    "tags": []
   },
   "source": [
    "(td:td3)=\n",
    "# Feuille 3\n",
    "\n",
    ":::{note}\n",
    "\n",
    "Feuille téléchargeable au format jupyter notebook (`.ipynb`) \n",
    "\n",
    ":::\n",
    "\n",
    "- Le symbole $\\blacksquare$ indique les exercices ou questions obligatoires. Commencez pas ceux-là.\n",
    "- Les symboles $\\star$ et $\\star\\star$ indiquent les exercices ou questions de difficulté relative plus importante."
   ]
  },
  {
   "cell_type": "markdown",
   "id": "9aa3dd44-e43b-4816-8cb5-0398ee0b2c90",
   "metadata": {
    "tags": []
   },
   "source": [
    "**Focus**\n",
    "\n",
    "-   tableaux 2D et traitements associés : images, matrices\n",
    "-   boucles imbriquées\n",
    "-   fonctions avec tableaux multi-dimensionnels\n",
    "\n",
    "**Compétences**\n",
    "\n",
    "- Savoir représenter un tableau multidimensionnel comme une liste de listes : initialisation, accès aux valeurs, à des tranches de valeurs \n",
    "- Savoir exploiter une structure de contrôle composée de type boucles imbriquées indépendantes et dépendantes : intérêt, exemples de parcours simple ou conditionnel, décompte des itérations.\n",
    "- Savoir définir et écrire une spécification de fonction avec des paramètres de type tableau  \n",
    "- Identifier les cas particuliers liés à la structure de tableau : tableau de dimension 0, tableau vide\n",
    "\n",
    "**Rappel de quelques consignes**\n",
    "\n",
    "- Relire celles des [feuille 1](td:td1) et [feuille 2](td:td2)\n",
    "- Les fonctions avec un ou plusieurs arguments de type tableau (`lst`,\n",
    "`str`) doivent expliciter la (ou les) _dimensions_ de chacun de ces\n",
    "arguments tableaux à l'aide des arguments supplémentaires nécessaires."
   ]
  },
  {
   "cell_type": "markdown",
   "id": "1bca01fc-206e-42ef-bf72-3f0f5e791a18",
   "metadata": {},
   "source": [
    "## Objectif 10\n",
    "\n",
    ":::{important}\n",
    "\n",
    "Pour tous les exercices, il est fortement conseillé de suivre les étapes suivantes. \n",
    "\n",
    "1. Ecrire d'_un algorithme_ qui répond à la question. Cette étape peut être optionnelle selon votre niveau.\n",
    "2. Ecrire cette solution sous la forme d'un _appel de fonction_ -- ce qui suppose l'écriture préalable de la fonction.\n",
    "3. Valider la fonction avec quelques _tests unitaires_ bien choisis. Les ES avec des fichiers sont utiles à cet effet.\n",
    "\n",
    ":::"
   ]
  },
  {
   "cell_type": "markdown",
   "id": "7ddcc440-e0dc-4d8c-ae03-6d3650408a97",
   "metadata": {},
   "source": [
    "### $\\blacksquare$ Exercice.\n",
    "\n",
    "1.  Écrire un algorithme qui calcule les tables de multiplications entre\n",
    "    entiers compris en 1 et 10, les stocke dans un tableau 2D puis les\n",
    "    affiche. Ainsi la case $(i,j)$ du tableau contient le résultat de\n",
    "    $i \\times j$."
   ]
  },
  {
   "cell_type": "code",
   "execution_count": 29,
   "id": "d7a89348-a2d7-4b26-b8d4-5c25c739071e",
   "metadata": {},
   "outputs": [
    {
     "name": "stdout",
     "output_type": "stream",
     "text": [
      "[[0, 0, 0, 0, 0, 0, 0, 0, 0, 0, 0], [0, 1, 2, 3, 4, 5, 6, 7, 8, 9, 10], [0, 2, 4, 6, 8, 10, 12, 14, 16, 18, 20], [0, 3, 6, 9, 12, 15, 18, 21, 24, 27, 30], [0, 4, 8, 12, 16, 20, 24, 28, 32, 36, 40], [0, 5, 10, 15, 20, 25, 30, 35, 40, 45, 50], [0, 6, 12, 18, 24, 30, 36, 42, 48, 54, 60], [0, 7, 14, 21, 28, 35, 42, 49, 56, 63, 70], [0, 8, 16, 24, 32, 40, 48, 56, 64, 72, 80], [0, 9, 18, 27, 36, 45, 54, 63, 72, 81, 90], [0, 10, 20, 30, 40, 50, 60, 70, 80, 90, 100]]\n"
     ]
    }
   ],
   "source": [
    "# solution avec creation d'un tableau de zeros puis son remplissage\n",
    "res = [[0 for j in range(11)] for i in range(11)]\n",
    "\n",
    "for i in range(11):\n",
    "    for j in range(11):\n",
    "        res[i][j] = i * j\n",
    "\n",
    "print(res)"
   ]
  },
  {
   "cell_type": "code",
   "execution_count": 30,
   "id": "cf0bc1a1-b1a6-48c8-af75-466f8f07676f",
   "metadata": {},
   "outputs": [
    {
     "name": "stdout",
     "output_type": "stream",
     "text": [
      "[[0, 0, 0, 0, 0, 0, 0, 0, 0, 0, 0], [0, 1, 2, 3, 4, 5, 6, 7, 8, 9, 10], [0, 2, 4, 6, 8, 10, 12, 14, 16, 18, 20], [0, 3, 6, 9, 12, 15, 18, 21, 24, 27, 30], [0, 4, 8, 12, 16, 20, 24, 28, 32, 36, 40], [0, 5, 10, 15, 20, 25, 30, 35, 40, 45, 50], [0, 6, 12, 18, 24, 30, 36, 42, 48, 54, 60], [0, 7, 14, 21, 28, 35, 42, 49, 56, 63, 70], [0, 8, 16, 24, 32, 40, 48, 56, 64, 72, 80], [0, 9, 18, 27, 36, 45, 54, 63, 72, 81, 90], [0, 10, 20, 30, 40, 50, 60, 70, 80, 90, 100]]\n"
     ]
    }
   ],
   "source": [
    "# solution avec creation d'un tableau en comprehension\n",
    "res = [[i*j for j in range(11)] for i in range(11)]\n",
    "\n",
    "print(res)"
   ]
  },
  {
   "cell_type": "markdown",
   "id": "4535f7b9-b084-4fbd-8fd8-7ba881ef1cb3",
   "metadata": {},
   "source": [
    "(exo:verif)=\n",
    "### $\\blacksquare$ Exercice.\n",
    "\n",
    "Ecrire les algorithmes de vérification suivants pour une matrice $M$\n",
    "donnée, carrée de taille $n$ et à valeurs flottantes."
   ]
  },
  {
   "cell_type": "markdown",
   "id": "7052f1ba-b54b-426b-8a7c-4afc51dee7c2",
   "metadata": {},
   "source": [
    "1.  $M$ est diagonale ?"
   ]
  },
  {
   "cell_type": "code",
   "execution_count": 1,
   "id": "e1109aee-e737-4117-beac-fd3beabcc1e0",
   "metadata": {},
   "outputs": [],
   "source": [
    "def est_diagonale(mat: list[list[float]], n: int, m: int)-> bool:\n",
    "    '''teste si mat de taille nxm est diagonale ou pas'''\n",
    "    # pre-conditions\n",
    "    assert n == m\n",
    "    assert len(mat) == n\n",
    "    for i in range(n):\n",
    "        assert len(mat[i]) == m\n",
    "    #traitement\n",
    "    for i in range(n):\n",
    "        for j in range(m):\n",
    "            if i != j and mat[i][j] != 0:\n",
    "                return False\n",
    "    return True\n",
    "    "
   ]
  },
  {
   "cell_type": "code",
   "execution_count": 2,
   "id": "c1aeac44-a9b4-49ca-98fe-2eda61dc262f",
   "metadata": {},
   "outputs": [],
   "source": [
    "id3 = [[1,0,0], [0, 1, 0], [0, 0, 1]]\n",
    "assert est_diagonale(id3, 3, 3) == True"
   ]
  },
  {
   "cell_type": "code",
   "execution_count": 3,
   "id": "ad48a160-e611-475a-8b11-6821cf708775",
   "metadata": {},
   "outputs": [],
   "source": [
    "m44 = [ [i+1 for j in range(4)] for i in range(4) ]\n",
    "assert est_diagonale(m44, 4, 4) == False"
   ]
  },
  {
   "cell_type": "markdown",
   "id": "f19fd5a9-bf81-474a-9897-b1e51ec1fc03",
   "metadata": {},
   "source": [
    "2.  $M$ est symétrique ?"
   ]
  },
  {
   "cell_type": "code",
   "execution_count": 20,
   "id": "8af49480-7740-4b32-9102-893ab2044ee9",
   "metadata": {},
   "outputs": [],
   "source": [
    "def est_symétrique(mat: list[list[float]], n: int, m: int)-> bool:\n",
    "    '''teste si mat de taille nxm est symétrique ou pas'''\n",
    "    # pre-conditions\n",
    "    assert n == m\n",
    "    assert len(mat) == n\n",
    "    for i in range(n):\n",
    "        assert len(mat[i]) == m\n",
    "    #traitement\n",
    "    for i in range(n):\n",
    "        for j in range(m):\n",
    "            if mat[i][j] != mat[j][i]:\n",
    "                return False\n",
    "    return True"
   ]
  },
  {
   "cell_type": "code",
   "execution_count": 24,
   "id": "afd61590-af69-4cf8-a7d5-e0b7f3d237c3",
   "metadata": {},
   "outputs": [],
   "source": [
    "id3 = [[1,0,0], [0, 1, 0], [0, 0, 1]]\n",
    "assert est_symétrique(id3, 3, 3) == True\n",
    "m44 = [ [i+1 for j in range(4)] for i in range(4) ]\n",
    "assert est_symétrique(m44, 4, 4) == False\n",
    "m22 = [[1, 2], [2, 3]]\n",
    "assert est_symétrique(m22, 2, 2) == True"
   ]
  },
  {
   "cell_type": "markdown",
   "id": "1c48b8af-32ed-4a57-b6f6-30d9d29d1780",
   "metadata": {},
   "source": [
    "3.  $M$ est égale à l'identité ?"
   ]
  },
  {
   "cell_type": "code",
   "execution_count": 4,
   "id": "1cecfa9a-eed0-4fd4-9ef6-d106d1ad788e",
   "metadata": {},
   "outputs": [],
   "source": [
    "def est_identite(mat: list[list[float]], n: int, m: int) -> bool:\n",
    "    '''teste si mat de taille mxn est égale à l'identité ou non.'''\n",
    "        # pre-conditions\n",
    "    assert n == m\n",
    "    assert len(mat) == n\n",
    "    for i in range(n):\n",
    "        assert len(mat[i]) == m\n",
    "    # traitement\n",
    "    if not(est_diagonale(mat, n, m)):\n",
    "        return False\n",
    "    for i in range(n):\n",
    "        if mat[i][i] != 1:\n",
    "            return False\n",
    "    return True"
   ]
  },
  {
   "cell_type": "code",
   "execution_count": 5,
   "id": "9a9dfd8b-226c-4214-b5d6-37bbe6d8a986",
   "metadata": {},
   "outputs": [],
   "source": [
    "id3 = [[1,0,0], [0, 1, 0], [0, 0, 1]]\n",
    "assert est_identite(id3, 3, 3) == True\n",
    "m22 = [[2, 0], [0, 1]]\n",
    "assert est_identite(m22, 2, 2) == False\n",
    "m44 = [ [i+1 for j in range(4)] for i in range(4) ]\n",
    "assert est_identite(m44, 4, 4) == False"
   ]
  },
  {
   "cell_type": "markdown",
   "id": "222f5382-b626-4380-8063-90861d03aae4",
   "metadata": {},
   "source": [
    "4.  $M$ est l'inverse d'une autre matrice donnée $N$ ?"
   ]
  },
  {
   "cell_type": "code",
   "execution_count": 6,
   "id": "a2984dc4-ceac-406b-b175-9c59154ce011",
   "metadata": {},
   "outputs": [],
   "source": [
    "def prod_mat(a : list[list[float]], n1: int, m1: int, b : list[list[float]], n2: int, m2: int) -> list[list[float]]:\n",
    "    '''calcule c = a * b où a mat de taille n1xm1 et b n2xm2'''\n",
    "    #pré-conditions\n",
    "    assert m1 == n2\n",
    "    #\n",
    "    assert len(a) == n1\n",
    "    for i in range(n1):\n",
    "        assert len(a[i]) == m1\n",
    "    assert len(b) == n2\n",
    "    for i in range(n2):\n",
    "        assert len(b[i]) == m2\n",
    "    #    \n",
    "    c = [ [0 for j in range(m2)] for i in range(n1)]\n",
    "    # traitement\n",
    "    for i in range(n1):\n",
    "        for j in range(m2):\n",
    "            for k in range(n2):\n",
    "                c[i][j] = c[i][j] + a[i][k] * b[k][j]\n",
    "    return c           "
   ]
  },
  {
   "cell_type": "code",
   "execution_count": 7,
   "id": "1f5e2f44-6e35-4883-874b-dd549feea387",
   "metadata": {},
   "outputs": [
    {
     "name": "stdout",
     "output_type": "stream",
     "text": [
      "Help on method randint in module random:\n",
      "\n",
      "randint(a, b) method of random.Random instance\n",
      "    Return random integer in range [a, b], including both end points.\n",
      "\n"
     ]
    }
   ],
   "source": [
    "from random import randint\n",
    "help(randint)"
   ]
  },
  {
   "cell_type": "code",
   "execution_count": 8,
   "id": "3cab5914-89a5-4501-a1ad-bd11a106963e",
   "metadata": {},
   "outputs": [
    {
     "name": "stdout",
     "output_type": "stream",
     "text": [
      "[[-4, 4, 1, 4, 5], [0, -2, 2, 3, 5], [-3, 5, 3, 3, 1]]\n"
     ]
    }
   ],
   "source": [
    "m35 = [[randint(-5, 5) for j in range(5)] for i in range(3)]\n",
    "print(m35)\n",
    "assert prod_mat(id3, 3, 3, m35, 3, 5) == m35"
   ]
  },
  {
   "cell_type": "code",
   "execution_count": 9,
   "id": "7705a4e9-4be0-4aa4-b767-3e6699715785",
   "metadata": {},
   "outputs": [],
   "source": [
    "def sont_inverses(mat1 : list[list[float]], n1: int, m1: int, mat2 : list[list[float]], n2: int, m2: int) -> bool:\n",
    "    '''teste si mat1 de taille n1xm1 et mat2 de taille n2xm2 sont inverses'''\n",
    "    #pré-conditions\n",
    "    assert n1 == m2\n",
    "    assert n2 == m1\n",
    "    assert len(mat1) == n1\n",
    "    for i in range(n1):\n",
    "        assert len(mat1[i]) == m1\n",
    "    assert len(mat2) == n2\n",
    "    for i in range(n2):\n",
    "        assert len(mat2[i]) == m2\n",
    "    # traitement\n",
    "    if not(est_identite(prod_mat(mat1, n1, m1, mat2, n2, m2), n1, m2)):\n",
    "           return False\n",
    "    if not(est_identite(prod_mat(mat2, n2, m2, mat1, n1, m1), n2, m1)):\n",
    "           return False\n",
    "    return True   "
   ]
  },
  {
   "cell_type": "code",
   "execution_count": 10,
   "id": "20ce09db-8051-4ebb-a4c4-1c769cc09f12",
   "metadata": {},
   "outputs": [],
   "source": [
    "assert sont_inverses(id3, 3, 3, id3, 3, 3) == True\n",
    "a33 = [[10, -2, -3], [-6, 1, 2], [-3, 1, 1]]\n",
    "b33 = [[1, 1, 1], [0, -1, 2], [3, 4, 2]]\n",
    "assert sont_inverses(a33, 3, 3, b33, 3, 3) == True"
   ]
  },
  {
   "cell_type": "markdown",
   "id": "d2abac04-8aa9-4d0b-b0c3-ee20b9b6fc04",
   "metadata": {},
   "source": [
    "(exo:ttmt)=\n",
    "### $\\blacksquare$ Exercice.\n",
    "\n",
    "1.  Ecrire les algorithmes des traitements suivants pour une\n",
    "    matrice $M$ donnée, carrée de taille $n$ et à valeurs flottantes."
   ]
  },
  {
   "cell_type": "markdown",
   "id": "799b0aed-b3f4-4c52-8690-64f371f93f7d",
   "metadata": {},
   "source": [
    "    1.  Générer, puis afficher, la matrice transposée de $M$."
   ]
  },
  {
   "cell_type": "markdown",
   "id": "c155eb93-ded8-417e-8163-f23f7961b841",
   "metadata": {},
   "source": [
    "    2.  Générer la matrice symétrique à partir de la partie triangulaire\n",
    "        supérieure de $M$."
   ]
  },
  {
   "cell_type": "markdown",
   "id": "095ea9f4-656f-4b66-a60d-8cb62f3740a2",
   "metadata": {},
   "source": [
    "    3.  Calculer les opérations matricielles suivantes en veillant à la\n",
    "        cohérence des dimensions :"
   ]
  },
  {
   "cell_type": "markdown",
   "id": "c6e461f2-69d9-4b9b-8519-5e6a0f577c40",
   "metadata": {},
   "source": [
    "        1.  addition de matrices : $A+B$,"
   ]
  },
  {
   "cell_type": "code",
   "execution_count": 11,
   "id": "eb879bd5-9893-4b16-ba16-2c70e180d06c",
   "metadata": {},
   "outputs": [],
   "source": [
    "def add_mat(a : list[list[float]], n1: int, m1: int, b : list[list[float]], n2: int, m2: int) -> list[list[float]]:\n",
    "    '''calcule c = a + b où a mat de taille n1xm1 et b n2xm2'''\n",
    "    #pré-conditions\n",
    "    assert n1 == n2\n",
    "    assert m1 == m2\n",
    "    #\n",
    "    assert len(a) == n1\n",
    "    for i in range(n1):\n",
    "        assert len(a[i]) == m1\n",
    "    assert len(b) == n2\n",
    "    for i in range(n2):\n",
    "        assert len(b[i]) == m2\n",
    "    #    \n",
    "    c = [ [0 for j in range(m1)] for i in range(n1)]\n",
    "    # traitement\n",
    "    for i in range(n1):\n",
    "        for j in range(m1):\n",
    "                c[i][j] = a[i][j] + b[i][j]\n",
    "    return c           "
   ]
  },
  {
   "cell_type": "code",
   "execution_count": 12,
   "id": "d775a1ce-b979-4b33-9a70-a6744bfe375a",
   "metadata": {},
   "outputs": [],
   "source": [
    "m35 = [[randint(-5, 5) for j in range(5)] for i in range(3)]\n",
    "zeros35 =[[0 for j in range(5)] for i in range(3)]\n",
    "assert add_mat(m35, 3, 5, zeros35, 3, 5) == m35\n",
    "assert add_mat(zeros35, 3, 5, m35, 3, 5) == m35"
   ]
  },
  {
   "cell_type": "markdown",
   "id": "56335a3c-e38f-4016-8d86-d244f8b422ad",
   "metadata": {},
   "source": [
    "        2.  produit matrice-vecteur : $A \\cdot U$,"
   ]
  },
  {
   "cell_type": "code",
   "execution_count": 13,
   "id": "adfef83b-4188-473f-a3f1-80a32e0cabbc",
   "metadata": {},
   "outputs": [],
   "source": [
    "def prod_mat_vect(a : list[list[float]], n: int, m: int, u: list[float], p: int, ) -> list[list[float]]:\n",
    "    '''calcule c = a * b où a mat de taille n1xm1 et b n2xm2'''\n",
    "    #pré-conditions\n",
    "    assert m == p\n",
    "    #\n",
    "    assert len(a) == n\n",
    "    for i in range(n):\n",
    "        assert len(a[i]) == m\n",
    "    #    \n",
    "    v = [ 0 for i in range(n)]\n",
    "    # traitement\n",
    "    for i in range(n):\n",
    "        for j in range(p):\n",
    "                v[i] = v[i] + a[i][j] * u[j]\n",
    "    return v           "
   ]
  },
  {
   "cell_type": "code",
   "execution_count": 14,
   "id": "89dac90c-f8b9-4092-b2df-a70cab70c193",
   "metadata": {},
   "outputs": [],
   "source": [
    "u3 = [randint(-5, 5) for i in range(3)]\n",
    "assert prod_mat_vect(id3, 3, 3, u3, 3) == u3 "
   ]
  },
  {
   "cell_type": "markdown",
   "id": "bb7965e5-87c7-46e3-b522-6e7df3a48f1f",
   "metadata": {},
   "source": [
    "        3.  produit de matrices : $A \\times B$."
   ]
  },
  {
   "cell_type": "code",
   "execution_count": 15,
   "id": "df3f5178-3744-411d-8762-f41fcd2b593a",
   "metadata": {},
   "outputs": [],
   "source": [
    "def prod_mat(a : list[list[float]], n1: int, m1: int, b : list[list[float]], n2: int, m2: int) -> list[list[float]]:\n",
    "    '''calcule c = a * b où a mat de taille n1xm1 et b n2xm2'''\n",
    "    #pré-conditions\n",
    "    assert m1 == n2\n",
    "    #\n",
    "    assert len(a) == n1\n",
    "    for i in range(n1):\n",
    "        assert len(a[i]) == m1\n",
    "    assert len(b) == n2\n",
    "    for i in range(n2):\n",
    "        assert len(b[i]) == m2\n",
    "    #    \n",
    "    c = [ [0 for j in range(m2)] for i in range(n1)]\n",
    "    # traitement\n",
    "    for i in range(n1):\n",
    "        for j in range(m2):\n",
    "            for k in range(n2):\n",
    "                c[i][j] = c[i][j] + a[i][k] * b[k][j]\n",
    "    return c           "
   ]
  },
  {
   "cell_type": "code",
   "execution_count": 16,
   "id": "5d3c0969-7c18-48e9-8886-ac5188cf2cd5",
   "metadata": {},
   "outputs": [
    {
     "name": "stdout",
     "output_type": "stream",
     "text": [
      "[[1, -5, 1, 5, 3], [5, -4, -4, 5, 2], [1, 1, -4, 4, -2]]\n"
     ]
    }
   ],
   "source": [
    "m35 = [[randint(-5, 5) for j in range(5)] for i in range(3)]\n",
    "print(m35)\n",
    "assert prod_mat(id3, 3, 3, m35, 3, 5) == m35"
   ]
  },
  {
   "cell_type": "markdown",
   "id": "12b7f8e0-e7f2-415e-9698-ada05073fba8",
   "metadata": {},
   "source": [
    "2.  Compter le nombre d'opérations arithmétiques de ces traitements.\n",
    "    Exprimer ce nombre comme une fonction de $n$. Qu'en déduire si la\n",
    "    taille $n$ est doublée ?"
   ]
  },
  {
   "cell_type": "markdown",
   "id": "aa45f2af-68cd-4228-8541-ce6c891fb1be",
   "metadata": {},
   "source": [
    "- paramètre de complexité : t = n x m où n = le nombre de lignes et m = nombre colonnes \n",
    "- mesure :le nombre d'opérations arithmétiques \n",
    "- add_mat est exactement linéaire en t (= n x m)\n",
    "    - cas particulier : n == m et add_mat exactement quadratique en n\n",
    "- prod_mat_vect est exactement linéaire en t (= n x m)\n",
    "    - cas particulier : n == m et prod_mat exactement quadratique en n\n",
    "- prod_mat est exactement linéaire en t x p ( = n x m x p)\n",
    "    - cas particulier : n == m == p et prod_mat exactement cubique en n\n"
   ]
  },
  {
   "cell_type": "markdown",
   "id": "44106c7c-c1b2-4301-b805-593660a91c46",
   "metadata": {
    "tags": []
   },
   "source": [
    "(exo:imnb)=\n",
    "### $\\blacksquare$ Exercice \n",
    "\n",
    "**Note.** Cet exercice est inspiré d'un extrait de sujet d'examen.\n",
    "Il comporte des questions Objectifs 10 et Objectif 20.\n",
    "\n",
    "Une image 2D peut être représentée par un tableau 2D de _pixels_.  \n",
    "Une image \"noir et blanc\" de taille $L \\times C$ est ainsi représentée\n",
    "par un tableau de $L$ lignes et $C$ colonnes, de 0 (pixel blanc) ou de\n",
    "1 (pixel noir).  \n",
    "Les images suivantes sont des exemples d'images 3 $\\times$ 4. "
   ]
  },
  {
   "cell_type": "markdown",
   "id": "9c864bed-7e57-4d3b-b843-a7cc186bb514",
   "metadata": {},
   "source": [
    "```{image} fig/3x4-blanc.png\n",
    ":alt: image blanche\n",
    ":height: 20mm\n",
    ":name: 1\n",
    "```\n",
    "```{image} fig/3x4-nb-centre.png\n",
    ":alt: 2 pixels noirs au centre\n",
    ":height: 20mm\n",
    "```\n",
    "```{image} fig/3x4-tri.png\n",
    ":alt: triangle inférieur noir\n",
    ":height: 20mm\n",
    "```"
   ]
  },
  {
   "cell_type": "markdown",
   "id": "9bf09a5a-0505-4e61-96f6-333e6a1898db",
   "metadata": {},
   "source": [
    "L'image blanche (à gauche) est représentée par le tableau de taille $3 \\times\n",
    "4$ (une liste de listes de 0) donné par le code python suivant."
   ]
  },
  {
   "cell_type": "code",
   "execution_count": 17,
   "id": "9f519b65-5cc9-4a42-a341-9eb39217403c",
   "metadata": {},
   "outputs": [
    {
     "name": "stdout",
     "output_type": "stream",
     "text": [
      "[[0, 0, 0, 0], [0, 0, 0, 0], [0, 0, 0, 0]]\n",
      "3 4\n"
     ]
    }
   ],
   "source": [
    "l = 3\n",
    "c = 4\n",
    "t = [[0 for i in range(c)] for j in range(l)]\n",
    "\n",
    "print(t)\n",
    "print(len(t), len(t[0]))"
   ]
  },
  {
   "cell_type": "markdown",
   "id": "129665cf-916d-4d07-92fa-655e23eebe3c",
   "metadata": {},
   "source": [
    "#### Premières transformations d'images 3 $\\times$ 4.\n",
    "  \n",
    "1. Ecrire l'algorithme qui transforme l'image blanche (à gauche) en une image noire 3 $\\times$ 4 sans définir un autre tableau.\n",
    "2. Ecrire l'algorithme qui transforme l'image blanche en l'image du centre.\n",
    "3. Ecrire l'algorithme qui transforme l'image blanche en l'image de droite."
   ]
  },
  {
   "cell_type": "markdown",
   "id": "c586bf7f-db96-434f-afda-50f62eaa1333",
   "metadata": {},
   "source": [
    "#### Fonctions et transformation d'image de taille arbitraire.  \n",
    "\n",
    "On considère la dernière transformation où la partie\n",
    "triangulaire inférieure est noircie. Selon la forme de la matrice, cette\n",
    "partie noircie est un triangle (matrice rectangulaire \"allongée\"\n",
    "horizontalement) ou un trapèze (matrice rectangulaire \"allongée\"\n",
    "verticalement). On va définir cette transformation sous la forme d'une\n",
    "fonction.\n",
    "\n",
    "1. Ecrire l'en-tête de cette fonction `tr()`\n",
    "2. Appliquer cette fonction à l'image blanche de gauche.\n",
    "3. Ecrire le corps de la fonction `tr()`.\n",
    "4. ($\\star$) Définir une image `t2` de taille 4 $\\times$ 8 composée de\n",
    "      lignes alternativement blanche et noire \n",
    "(que:im4)=\n",
    "5.  On applique la fonction `tr()` à cette image. Dessiner \"à la main\" l'image ainsi transformée.\n",
    "6. Ecrire ce traitement à l'aide de la fonction `tr()`\n"
   ]
  },
  {
   "cell_type": "markdown",
   "id": "60825b85-b6bd-44fe-820e-18af2a8e0d42",
   "metadata": {},
   "source": [
    "#### Analyse d'une image de taille arbitraire.\n",
    "\n",
    "1.  Ecrire une fonction `nbpixblc()` qui compte et retourne le\n",
    "    nombre de pixels blanc d'une image de taille arbitraire\n",
    "\n",
    "2.  Que retourne l'application de cette fonction à l'image (4) de la\n",
    "    question <a href=\"#que:im4\" data-reference-type=\"ref\"\n",
    "    data-reference=\"que:im4\">[que:im4]</a>."
   ]
  },
  {
   "cell_type": "markdown",
   "id": "4a409d27-da1d-4568-bad1-5f08ac0b8cf9",
   "metadata": {},
   "source": [
    "#### ($\\star$) Complexité de cette analyse\n",
    "\n",
    "1.  Préciser le paramètre de complexité de `nbpixblc()`,\n",
    "    la mesure de cette complexité et l'expression la plus précise\n",
    "    possible de sa complexité. Justifier votre réponse.\n",
    "\n",
    "2.  Soit $C$ la complexité du traitement par `nbpixblc()`\n",
    "    d'une image donnée $\\mathcal{I}$. On double le nombre de lignes\n",
    "    de $\\mathcal{I}$. Quelle est la complexité $C_1$ du traitement\n",
    "    de cette nouvelle image ?\n",
    "\n",
    "3.  On double le nombre de lignes et de colonnes de\n",
    "    $\\mathcal{I}$. Quelle est la complexité $C_2$ du traitement de\n",
    "    cette nouvelle image.\n",
    "\n",
    "4.  Donner l'expression la plus précise possible de sa\n",
    "    complexité asymptotique."
   ]
  },
  {
   "cell_type": "markdown",
   "id": "dd812334-248f-4dc4-a50e-ea7bea872388",
   "metadata": {},
   "source": [
    "## Objectif 20"
   ]
  },
  {
   "cell_type": "markdown",
   "id": "861e4e9c-ed90-4567-8d57-394fa39bb139",
   "metadata": {},
   "source": [
    "### $\\blacksquare$ Exercice.\n",
    "\n",
    "Calculer, puis afficher, les 15 premières lignes du triangle de\n",
    "Pascal. Veiller à séparer traitement et affichage."
   ]
  },
  {
   "cell_type": "markdown",
   "id": "404bc6ea-33eb-4ee1-b723-cc8c13a3ae95",
   "metadata": {},
   "source": [
    "### $\\blacksquare$ Exercice.\n",
    "\n",
    "On veut résoudre le système linéaire $Tx=b$ où la matrice $T$ est une\n",
    "matrice triangulaire inférieure carrée de taille $n$ et $b$ un vecteur\n",
    "second membre (de taille $n$). La matrice $T$ et et le vecteur $b$ sont\n",
    "supposés donnés (au clavier ou avec une valeur d'initialisation).\n",
    "\n",
    "1. Ecrire l'algorithme qui effectue ce traitement.\n",
    "2. Le transformer en une fonction et un appel équivalent."
   ]
  },
  {
   "cell_type": "markdown",
   "id": "71fb3482-8fb0-43c4-8a6d-87f1e2e56e84",
   "metadata": {},
   "source": [
    "### $\\blacksquare$ Exercice.\n",
    "\n",
    "De façon similaire à l'[exercice](exo:imnb), on définit des images à\n",
    "niveaux de gris par un tableau 2D d'entiers compris en 0 (noir) et 255\n",
    "(blanc). La taille de l'image $L \\times C$ est arbitraire.  \n",
    "Ecrire les algorithmes des traitements suivants. On pourra commencer en\n",
    "introduisant un tableau supplémentaire pour l'image transformée. Selon\n",
    "les cas, on essaiera ensuite une solution “en place” : la transformation\n",
    "s'effectue sur le tableau de l'image d'origine.\n",
    "\n",
    "1.  Générer le négatif (*reverse video*) d'une image NB ou par niveaux\n",
    "    de gris.\n",
    "\n",
    "2.  Générer une image NB à partir d'une image niveau de gris.\n",
    "\n",
    "3.  Augmenter le contraste de la transformation précédente.  \n",
    "    Principe : fixer un seuil et remplacer les pixels plus clairs que le\n",
    "    seuil par des pixels blancs, et inversement les plus sombres que le\n",
    "    seuil par des pixels noirs.\n",
    "\n",
    "4.  Générer une image miroir vertical (le haut se retrouve en bas et\n",
    "    réciproquement) ou horizontal d'une image NB.\n",
    "\n",
    "5.  Augmenter la luminosité (ou luminance) d'une image à niveau de\n",
    "    gris.  \n",
    "    Principe : ajouter ou retrancher une constante de la valeur des\n",
    "    pixels.\n",
    "\n",
    "6.  Générer les contours significatifs d'une image.  \n",
    "    Principe : on remplace par un pixel noir chaque pixel dont la\n",
    "    variation des valeurs de ses 4 voisins varient au delà d'un certain\n",
    "    seuil, sinon on le remplace par un pixel blanc.\n",
    "\n",
    "7.  Réduire par 2 la taille d'une image à niveau de gris.  \n",
    "    Principe : chaque carré de 2x2 pixels est remplacé par 1 pixel de\n",
    "    valeur la moyenne des pixels du carré."
   ]
  },
  {
   "cell_type": "markdown",
   "id": "5ccfafa7-b6a3-4dcd-b815-c3c4a4f1e2ec",
   "metadata": {},
   "source": [
    "### $\\star$ Exercice.\n",
    "\n",
    "**Note.** Les images de cet exercice sont disponibles sous moodle (section TD).  \n",
    "\n",
    "Ecrire les algorithmes qui, à partir de l'image originale suivante :\n",
    "\n",
    "```{image} fig/jap.png\n",
    ":alt: visage original\n",
    ":height: 25mm\n",
    ":align: center\n",
    "```\n",
    "génèrent des images zébrées horizontales ou verticales ou quadrillées. "
   ]
  },
  {
   "cell_type": "markdown",
   "id": "3d915756-96b6-4faf-ad0f-02b954fefaa6",
   "metadata": {},
   "source": [
    "```{image} ./fig/jap-18NBzebreH.png\n",
    ":alt: transformée NB zebrée horizontalement\n",
    ":height: 25mm\n",
    "```\n",
    "```{image} ./fig/jap-NBzebreVert.png\n",
    ":alt: transformée NB zebrée verticalement\n",
    ":height: 25mm\n",
    "```\n",
    "```{image} ./fig/jap-damier15.png\n",
    ":alt: transformée NB damiers\n",
    ":height: 25mm\n",
    "```"
   ]
  },
  {
   "cell_type": "markdown",
   "id": "0c84aba9-363b-4041-b6ba-4d54dacce79a",
   "metadata": {},
   "source": [
    "Le nombre de découpages horizontaux ou verticaux sont des\n",
    "paramètres de l'algorithme. On veillera aux cas où la taille de l'image\n",
    "n'est pas divisible par ces paramètres. "
   ]
  }
 ],
 "metadata": {
  "kernelspec": {
   "display_name": "Python 3 (ipykernel)",
   "language": "python",
   "name": "python3"
  },
  "language_info": {
   "codemirror_mode": {
    "name": "ipython",
    "version": 3
   },
   "file_extension": ".py",
   "mimetype": "text/x-python",
   "name": "python",
   "nbconvert_exporter": "python",
   "pygments_lexer": "ipython3",
   "version": "3.9.6"
  }
 },
 "nbformat": 4,
 "nbformat_minor": 5
}
